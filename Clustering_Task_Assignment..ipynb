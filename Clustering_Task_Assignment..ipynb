{
 "cells": [
  {
   "cell_type": "code",
   "execution_count": 1,
   "id": "d936fc57",
   "metadata": {},
   "outputs": [],
   "source": [
    "import pandas as pd                    \n",
    "import numpy as np\n",
    "import seaborn as sns\n",
    "import matplotlib.pyplot as plt\n",
    "import warnings\n",
    "warnings.filterwarnings(\"ignore\")"
   ]
  },
  {
   "cell_type": "code",
   "execution_count": 3,
   "id": "cefbbce9",
   "metadata": {
    "scrolled": true
   },
   "outputs": [
    {
     "data": {
      "text/html": [
       "<div>\n",
       "<style scoped>\n",
       "    .dataframe tbody tr th:only-of-type {\n",
       "        vertical-align: middle;\n",
       "    }\n",
       "\n",
       "    .dataframe tbody tr th {\n",
       "        vertical-align: top;\n",
       "    }\n",
       "\n",
       "    .dataframe thead th {\n",
       "        text-align: right;\n",
       "    }\n",
       "</style>\n",
       "<table border=\"1\" class=\"dataframe\">\n",
       "  <thead>\n",
       "    <tr style=\"text-align: right;\">\n",
       "      <th></th>\n",
       "      <th>question</th>\n",
       "    </tr>\n",
       "  </thead>\n",
       "  <tbody>\n",
       "    <tr>\n",
       "      <th>0</th>\n",
       "      <td>Six letters, A, P, K, U, W and N, are written ...</td>\n",
       "    </tr>\n",
       "    <tr>\n",
       "      <th>1</th>\n",
       "      <td>Gaurav exits from the backdoor of his north-fa...</td>\n",
       "    </tr>\n",
       "    <tr>\n",
       "      <th>2</th>\n",
       "      <td>Select the option figure in which the given fi...</td>\n",
       "    </tr>\n",
       "    <tr>\n",
       "      <th>3</th>\n",
       "      <td>PSQ' means 'P is to the north of Q .  &lt;br&gt;'P&amp;a...</td>\n",
       "    </tr>\n",
       "    <tr>\n",
       "      <th>4</th>\n",
       "      <td>The sequence of folding a piece of paper and t...</td>\n",
       "    </tr>\n",
       "  </tbody>\n",
       "</table>\n",
       "</div>"
      ],
      "text/plain": [
       "                                            question\n",
       "0  Six letters, A, P, K, U, W and N, are written ...\n",
       "1  Gaurav exits from the backdoor of his north-fa...\n",
       "2  Select the option figure in which the given fi...\n",
       "3  PSQ' means 'P is to the north of Q .  <br>'P&a...\n",
       "4  The sequence of folding a piece of paper and t..."
      ]
     },
     "execution_count": 3,
     "metadata": {},
     "output_type": "execute_result"
    }
   ],
   "source": [
    "data=pd.read_csv(\"C:\\\\Users\\\\SHAIKH MD KASHIF\\\\Downloads\\\\Dataset.xlsx - Sheet1.csv\")\n",
    "data.head()                         ### Loading the Data "
   ]
  },
  {
   "cell_type": "code",
   "execution_count": 4,
   "id": "57b61620",
   "metadata": {},
   "outputs": [
    {
     "data": {
      "text/html": [
       "<div>\n",
       "<style scoped>\n",
       "    .dataframe tbody tr th:only-of-type {\n",
       "        vertical-align: middle;\n",
       "    }\n",
       "\n",
       "    .dataframe tbody tr th {\n",
       "        vertical-align: top;\n",
       "    }\n",
       "\n",
       "    .dataframe thead th {\n",
       "        text-align: right;\n",
       "    }\n",
       "</style>\n",
       "<table border=\"1\" class=\"dataframe\">\n",
       "  <thead>\n",
       "    <tr style=\"text-align: right;\">\n",
       "      <th></th>\n",
       "      <th>question</th>\n",
       "    </tr>\n",
       "  </thead>\n",
       "  <tbody>\n",
       "    <tr>\n",
       "      <th>count</th>\n",
       "      <td>214</td>\n",
       "    </tr>\n",
       "    <tr>\n",
       "      <th>unique</th>\n",
       "      <td>214</td>\n",
       "    </tr>\n",
       "    <tr>\n",
       "      <th>top</th>\n",
       "      <td>Six letters, A, P, K, U, W and N, are written ...</td>\n",
       "    </tr>\n",
       "    <tr>\n",
       "      <th>freq</th>\n",
       "      <td>1</td>\n",
       "    </tr>\n",
       "  </tbody>\n",
       "</table>\n",
       "</div>"
      ],
      "text/plain": [
       "                                                 question\n",
       "count                                                 214\n",
       "unique                                                214\n",
       "top     Six letters, A, P, K, U, W and N, are written ...\n",
       "freq                                                    1"
      ]
     },
     "execution_count": 4,
     "metadata": {},
     "output_type": "execute_result"
    }
   ],
   "source": [
    "data.describe()"
   ]
  },
  {
   "cell_type": "code",
   "execution_count": 5,
   "id": "620c1768",
   "metadata": {},
   "outputs": [
    {
     "name": "stdout",
     "output_type": "stream",
     "text": [
      "<class 'pandas.core.frame.DataFrame'>\n",
      "RangeIndex: 214 entries, 0 to 213\n",
      "Data columns (total 1 columns):\n",
      " #   Column    Non-Null Count  Dtype \n",
      "---  ------    --------------  ----- \n",
      " 0   question  214 non-null    object\n",
      "dtypes: object(1)\n",
      "memory usage: 1.8+ KB\n"
     ]
    }
   ],
   "source": [
    "data.info()                                         #### Checking the No of Rows ,Col & Null Values"
   ]
  },
  {
   "cell_type": "markdown",
   "id": "6cbd1278",
   "metadata": {},
   "source": [
    "# Text Preprocessing :-"
   ]
  },
  {
   "cell_type": "markdown",
   "id": "0bc2df4e",
   "metadata": {},
   "source": [
    "# Text Cleaning"
   ]
  },
  {
   "cell_type": "markdown",
   "id": "52cc0b45",
   "metadata": {},
   "source": [
    "1) Removing of Punctuations"
   ]
  },
  {
   "cell_type": "code",
   "execution_count": 6,
   "id": "a1751ce2",
   "metadata": {},
   "outputs": [],
   "source": [
    "import nltk \n",
    "import re                                    ## - REMOVING OF PUNCTUATIONS\n",
    "from nltk.corpus import stopwords            ## - Removing of Stopwords \n",
    "from nltk.stem import PorterStemmer          ## - Stemming\n",
    "ps=PorterStemmer()"
   ]
  },
  {
   "cell_type": "code",
   "execution_count": 7,
   "id": "a21b3b4c",
   "metadata": {},
   "outputs": [
    {
     "name": "stdout",
     "output_type": "stream",
     "text": [
      "['Six letters  A  P  K  U  W and N  are written on different faces of a dice  Two positions of this dice are shown  Select the letter that will be on the face opposite to the one having N  https   cracku in media uploads Screenshot     n slYir png ', 'Gaurav exits from the backdoor of his north facing house and walk    m straight  then he takes a left turn and walk    m  then he turns left and walks    m  He turns left again and walk    m  How far and in which direction is he from his house now ', 'Select the option figure in which the given figure is embedded  rotation is NOT allowed   https   media cdn cracku in uploads Screenshot     l Bnf M png ', 'PSQ  means  P is to the north of Q     br  P amp Q  means  P is to the east of Q      br  P Q  means  Q is to the west of P      br  P Q  means  Q is to the south of P     br  P QR  means  P stands exactly in the middle of horizontal line QR     br  P QR  means  P stands exactly in the middle of vertical line QR     br Note   P mSQ  means  P is   m to the north of Q  and so on    br Find the shortest distance between G and C in the following expression    br C  mSS m G m amp J m K  JT', 'The sequence of folding a piece of paper and the manner in which the folded paper has been cutis shown in the following figures  How would this paper look when unfolded  https   media cdn cracku in uploads Screenshot     xQ  X R png ', 'The sequence of folding a piece of paper and the manner in which the folded paper has been cut is shown in the following figures  How would this paper look when unfolded  https   media cdn cracku in uploads Screenshot     iUqhNyx png ', 'Six letters A  B  C  D  E and F are written on different faces of a dice  Two positions of the same dice are shown   br Select the letter that will be on the face opposite to the face having the letter  c   https   cracku in media uploads Screenshot      q rDIh png ', 'The sequence of folding a piece of paper and the manner in which the folded paper has been cm is shown in the following figures  How would this paper look when unfolded  https   cracku in media uploads Screenshot     BwcAdKe png ', 'Select the option figure in which the given figure is embedded  rotation is NOT allowed   https   media cdn cracku in uploads Screenshot     szaQiti png ', 'Jahnavi is the sister of Taruni  Taruni is married to Dilip  Dilip is the father of Raghu   br Manoj is the son of Hema  Taruni is the mother in law of Hema  Dilip has only one son and no daughter  Jahnavi is married to Barun  Lekha is the daughter of Barun   br How is Jahnavi s sister related to Manoj s paternal grandfather ', 'D is the son of C and the brother of E  who is the niece of F  C is the sister of B and the aunt of A  B s father has two children  a son and a daughter  If A is the son of F  how is F related to C ', 'There is a family of five members  K  L  M N and O  Among them there is one married couple  O is unmarried and is the brother of K  is the sister of O  M is the only married female and the mother of N  L and O are the only males in the group   br Who is the father of K ', 'Vinita and Amita are the sisters of Gaurav  Ashish is the father of Vinita  Ansh is the son of Amita  How is Ashish related to Ansh ', 'Select the option in which the given figure is embedded  rotation is NOT allowed   https   media cdn cracku in uploads Screenshot     qlAIXCC png ', 'In a family of seven persons  B is the brother of A and the son of C D is the son in lawof C  who has two grand children  E and F  A is the mother of F  who is the niece of G  E is the son of G  If C has two children  how is E related D ', 'P  L  T  B  N and D are six members of a business family  N is the son of B  who is not the mother of N  L is the brother of B  D and B are a married couple  T is the daughter of D  who is the sister of P  How is N related to T ', 'Shweta starts walking from her office and walks     m towards the south  then she turns right and walks    m  and then she turns left and walks    m  She finally turns left and walks     m to reach a bank  What is the shortest distance between her office and the bank ', 'Two orientations of a dice are shown  This dice can be obtained by folding which of the option figures along the lines   https   cracku in media uploads Screenshot     n flXnX png ', 'Select the option that is embedded in the given figure  X   rotation is NOT allowed   https   cracku in media uploads Screenshot     LJS ziH png ', 'P is the father of Q and the grandfather of R  who is the brother of S  S s mother  T  is married to V  T is the sister of Q  How is V related to P ', 'The sequence of folding a piece of paper and the manner in which the folded paper has been cut is shown in the  following figures  How would this paper look when unfolded  https   cracku in media uploads Screenshot      i im   png ', 'Six friends  David  Bhanu  Minto  Krita  John and Nisan  are sitting in a circle with their backs towards the centre  David and Minto are sitting to the immediate left and right of Bhanu  respectively  John is not sitting to the immediate left of David  Nisan is sitting third to the right of Bhanu  Who is sitting second to the left of Bhanu ', 'Eight north facing restaurants named P  Q  R  S  T  U  V and W are located in a straight line  S is second to the left of T  W is third to the left of P  T is between P and V  S is third to the left of V  W is to the immediate right of U  R is third to the right of P  Who is sitting fourth to the right of S ', 'Reeta is standing facing south east  First  she turns         circ    clock wise  After that  she turns        circ    anticlockwise  Then she turns        circ    clockwise  followed by a         circ    anticlockwise turn  In which direction is she facing now ', 'Pointing towards a woman  Reena said   She is the only daughter of my father in law   How is the woman related to Reena ', 'The sequence of folding a piece of paper and the manner in which the folded paper has been cut is shown in the following figures  How would this paper look when unfolded  https   media cdn cracku in uploads Screenshot     ONjp vK png ', 'A cube is made by folding the given sheet  In the cube so formed  which of the following pairs of numbers would be opposite to each other  https   media cdn cracku in uploads Screenshot     z IMsw  png ', 'Two orientations of the same box are shown  How will this box look when unfolded  https   cracku in media uploads image mDdXPAa png ', 'Priyank is Akshay s brother  Sonia is Saksham s sister  Akshay is Sonia s son  How is Priyank related to Sonia ', 'Two different positions of the same dice are shown  the six faces of which are numbered from   to     br Select the number that will be on the face opposite to the one having    https   cracku in media uploads Screenshot     hkP QrI png ', 'Select the option figure in which the given figure is embedded  rotation is NOT allowed   https   cracku in media uploads Screenshot      Qeejv  png ', 'Select the option that depicts how the given transparent sheet of paper would appear if it is folded at the dotted line  https   cracku in media uploads Q   KfjuC   png ', 'Swati is the daughter of Anil s only sister Akshara  Anil s mother is Gouri  Kamini is Gouri s mother  Kamini s husband is Gaurav  Poonam is the mother in law of Gaurav  How is Swati related to Gaurav ', 'The sequence of folding a piece of paper  figure i  and the manner in which the folded paper has been cm  figure ii  is   br shown in the following figures  Select the option that would most closely resemble the unfolded form of figure  ii   https   cracku in media uploads Screenshot     lY W tE png ', 'Select the option figure in which the given figure is embedded  rotation is NOT allowed   https   media cdn cracku in uploads Screenshot     Mzii C  png ', 'Bindu  Krunal  Manoj  Nilima  Omkar  Piyush  Renu and Sundar are sitting around a circular table facing the centre  but not necessarily in the same order  Sundar sits second to the right of Piyush  Only two persons sit between Sundar and Krunal  Omkar sits opposite to Bindu  who is not an immediate neighbour of Krunal and Piyush  Nilima is the immediate neighbour of Krunal and Bindu  Manoj sits third to the right of Bindu    br Which of the following statements is are true ', 'Arsh is Shivam s father and Dhruvis the son of Bimla  Eshwar is the father ofArsh  If Shivam is the brother of Dhruv  how is Bimla related to Eshwar ', 'Saloni is the daughter of the only son of Kartik  Nirupama is the mother of Deepak  Yamini s only son  Ankit  is married to Nirupama  Kartik is the paternal grandfather of Deepak  How is Kartik related to Ankit ', 'The sequence of folding a piece of paper  figure i  and the manner in which the folded paper has been cut  figures ii     br is shown in the following figures  Select the option that would most closely resemble the unfolded form of figure  ii   https   cracku in media uploads Screenshot     XCN LHc png ', 'The sequence of folding a piece of paper  figure i  and the manner in which the folded paper has been cut  figure ii  is shown in the following figures    br Select the option that would most closely resemble the unfolded form of figure  ii   https   cracku in media uploads Screenshot      b g jI png ', 'The sequence of folding a piece of paper and the manner in which the folded paper has been cut is shown in the following figures  How would this paper look when unfolded  https   cracku in media uploads Screenshot    vrsCMTe png ', 'Eight friends  P  Q  R  S  T  U  V and W  are sitting clockwise in the same order around a circular table at equal distances between them  facing the centre of the table  If S is sitting in the west  then who is sitting in the south west direction ', 'Select the option that is NOT embedded in the given figure  X   rotation is NOT allowed   https   cracku in media uploads Screenshot    PcnuqKU png ', 'Select the option in which the given figure is embedded  rotation is NOT allowed   https   media cdn cracku in uploads Screenshot    vYPc Xr png ', 'Ramesh is the father of Manideep  Ramesh has only two children  Manideep is the brother of Niharika  Niharika is the daughter of Kavita  Ananya is the granddaughter of Kavita  Sujit is the father of Ananya  How is Sujit related to Manideep ', 'The sequence of folding a piece of paper and the manner in which the folded paper has been cut is shown in the following figures  How would this paper look when unfolded  https   media cdn cracku in uploads Screenshot     MqRbxD  png ', 'A piece of paper is folded and cut as shown below in the question figures  Select from the given answer figures  how it will appear when unfolded  https   cracku in media uploads Q   nsHS wq png ', 'The sequence of folding a piece of paper  figures i and ii  and the manner in which the folded paper has been cut  figure   br iii  is shown in the following figures  Select the option that would most closely resemble the unfolded form of figure   br  iii   https   cracku in media uploads Screenshot     nK cQuP png ', 'Select the option that depicts how the given transparent sheet of paper would appear if it is folded at the dotted line https   cracku in media uploads Q  cZ o bQ png ', 'The sequence of folding a piece of paper and the manner in which the folded paper has been cut is shown in the following figures  How would this paper look when unfolded  https   cracku in media uploads Q   O jhQXy png ', 'A cube is made by folding the given sheet  In the cube so formed  which of the following pairs of letters would be opposite to each other  https   media cdn cracku in uploads Screenshot     p vTgav png ', 'Four different positions of the same dice are shown  the six faces of which are numbered from   to     br Select the number that will be on the face opposite to the one having the number      https   cracku in media uploads image dSGEoPn png ', 'Select the option in which the given figure is embedded  rotation is NOT allowed   https   media cdn cracku in uploads Screenshot     Za  MI  png ', 'The sequence of folding a piece of paper and the manner in which the folded paper has been cut is shown in the following figures  How would this paper look when unfolded  https   media cdn cracku in uploads Screenshot     QS rKfF png ', 'Select the cubes that can be formed by folding the given sheet along the lines  https   media cdn cracku in uploads Screenshot     otJQ kO png ', 'Two different positions of the same dice are shown  the six faces of which are numbered from   to     br Select the number that will be on the face opposite to the face having the number      https   cracku in media uploads image Sp WLvR png ', 'In a family of eight persons  there are two couples  each having two children  B and D are brothers and each has two children  E is the aunt of A  who is the cousin brother of C  C is the sister of H  who is the cousin brother of G  F is the wife of B  How is H related to F ', 'The sequence of folding a piece of paper  figures i and ii  and the manner in which the folded paper has been cut  figure   br iii  is shown in the following figures  Select the option that would most closely resemble the unfolded form of figure   br  iii   https   cracku in media uploads Screenshot     UbCGMFP png ', 'P is the brother of Q  S is the father of P  R is the brother of S  If T is the mother of R  then how is P related to T ', 'Select the option that is embedded in the given figure  rotation is NOT allowed   https   media cdn cracku in uploads Screenshot     Tx xchu png ', 'Select the dice that can be formed by folding the given sheet along the lines  https   cracku in media uploads Screenshot     mv J DA png ', 'The sequence of folding a piece of paper and the manner in which the folded paper has been cut is shown in the following figures  How would this paper look when unfolded  https   cracku in media uploads Q  CcuWfub png ', 'Select the option that is NOT embedded in the given figure  X   rotation is NOT allowed   https   cracku in media uploads Screenshot     yRynssZ png ', 'Eight friends  A  B  C  D  E  F  G and H  are sitting in two lines of four persons each  Both the lines are facing each other  A is facing D  E is to the immediate left of G  H is to the immediate right of B  C is facing G  F is facing H  B is to the immediate right of the person who is facing G  D is to the immediate left of F  Which four persons are sitting in the same line ', 'Introducing Kavi  Veena said   She is the sister of the son of the wife of my husband   How is Veena related to Kavi ', 'Select the option that depicts how the given transparent sheet of paper would appear if it is folded at the dotted line  https   cracku in media uploads Q  y A JTS png ', 'Select the option figure in which the given figure is embedded  rotation is NOT allowed   https   media cdn cracku in uploads Screenshot        lQMX png ', 'The sequence of folding a piece of paper and the manner in which the folded paper has been cut is shown in the following figures  How would this paper look when unfolded  https   media cdn cracku in uploads Screenshot     HlTM zg png ', 'In a family of eight persons  there are two couples  each having two children  C and F are cousin brothers  The father of E is married to G  who is the aunt of F  F s mother  H  is married to B  the brother of A  E is the nephew of H  E and D are cousin brothers  How is A related to D ', 'A cube is made by folding the given sheet  In the cube so formed  what would be the number on the opposite side of the number      https   media cdn cracku in uploads Screenshot     HN CpIW png ', 'Three different positions of the same non standard dice are shown   br Which letter will be on the face opposite to the face with the letter  Q   https   cracku in media uploads Screenshot     fCjQR   png ', 'Two different positions of the same dice are shown  the faces of which are marked with the letters F  G  H  I  J and K   br Select the letter that will be on the face opposite to the face having the letter  F   https   media cdn cracku in uploads Screenshot     xT AsPU png ', 'Two different positions of the same dice are shown  the faces of which are marked with the letters p  q  r  s  t and u   br Select the letter that will be on the face opposite to the face having the letter  q   https   media cdn cracku in uploads Screenshot       YO  w png ', 'A cube is made by folding the given sheet  In the cube so formed  what would be the letter on the face opposite the face showing the letter  A   https   media cdn cracku in uploads Screenshot     VWyadrN png ', 'Select the option in which the given figure is embedded  rotation is NOT allowed   https   cracku in media uploads Screenshot   JT AfYG png ', 'The sequence of folding a piece of paper and the manner in which the folded paper bas been cut is show in the following figures  How would this paper look when unfolded  https   cracku in media uploads Screenshot    YEoi o  png ', 'Introducing Kaumudi to a guest  a boy  Mihir  said   She is the only daughter of my mother s brother in law   How is Mihir related to Kaumudi ', 'Select the option in which the given figure is embedded  rotation is NOT allowed   https   cracku in media uploads Screenshot     robnr   png ', 'The sequence of folding a piece of paper and the manner in which the folded paper has been cut is shown in the following figures  How would this paper look when unfolded  https   media cdn cracku in uploads Screenshot    I DySGq png ', 'Amit is the brother of Sonia  Jyoti is the sister of Nikita  Sonia is the daughter of Satish s father  Nikita is the daughter of Kavinder  Jyoti is the mother of Amit  Mukesh is Nikita s only sister s husband  How is Satish related to Kavinder ', 'Select the option that is embedded in the given figure  rotation is NOT allowed   https   media cdn cracku in uploads Screenshot     SPYe CR png ', 'Two different positions of the same dice are shown  the six faces of which are marked from A to F   br Select the letter that will be on the face opposite to the face showing the letter  C   https   media cdn cracku in uploads Screenshot     JjMCzcW png ', 'There are seven members  B  C  D  E  F  G and H  in a family  H is the only daughter in law of D  E is the sister of C  C is the only son of F  who is the wife of D  B and G are the sons of H  How is G related to F ', 'Select the option in which the given figure is embedded  rotation is NOT allowed   https   media cdn cracku in uploads Screenshot     l sgppl png ', 'The sequence of folding a piece of paper and the manner in which the folded paper has been cut is shown in the following figures  How would this paper look when unfolded  https   cracku in media uploads Q   se wRO  png ', 'Six letters and symbols  H  h  I       and    are written on the different faces of a dice  Two positions of this dice are shown   br Select the letters of symbols that will be on the face opposite to the one having  H   https   cracku in media uploads      April        png ', 'Niraj is the father of Rinku  Jiya and Tiya are the daughters of Ruby  who is the only sister of Rinku  Vishnu is the son of Rinku and Gita  How is Niraj related to Tiya ', 'The sequence of folding a piece of paper and the manner in which the folded paper has been cut is shown in the following figures  How would this paper look when unfolded  https   media cdn cracku in uploads Screenshot     BQz X v png ', 'The sequence of folding a piece of paper and the manner in which the folded paper has been cut is shown in the following figures  How would this paper look when unfolded  https   cracku in media uploads Screenshot    TxjtL k png ', 'Two orientations of the same box are shown  How will this box look when unfolded  https   cracku in media uploads Screenshot     a YtU   png ', 'Select the option figure in which the given figure is embedded  rotation is NOT allowed   https   media cdn cracku in uploads Screenshot     bw sgRX png ', 'Select the option in which the given figure is embedded  rotation is NOT allowed   https   cracku in media uploads Screenshot     hFvQRYN png ', 'There are two couples in a family  Komali has two children  Madhurima is the wife of Omprakash  who is the brother of Mani  Pinki is the daughter of Komali  Urmila is the sister of Sanju  who is the son of Omprakash  Tarun is the son of Mani  who is a male   br How is Madhurima is related to Komali ', 'The sequence of folding a piece of paper and the manner in which the folded paper has been cut is shown in the following figures  How would this paper look when unfolded  https   media cdn cracku in uploads Screenshot      u woua png ', 'The sequence of folding a piece of paper and the manner in which the folded paper has been cut is shown in the following figures  How would this paper look when unfolded  https   cracku in media uploads Screenshot     s pZa z png ', 'The sequence of folding a piece of paper  figure i  and the manner in which the folded paper has been cm  figure ii  is   br shown in the following figures  Select the option that would most closely resemble the unfolded form of figure  ii   https   cracku in media uploads Screenshot     MtWPFjK png ', 'If swati s father is maternal grand father of divya who is the daughter of manya  then how manya s husband s father is related to divya ', 'Three different positions of the same dice are shown  the faces of which are marked with the letters A  B  C  D   E and F   br Select the letter that will be on the face opposite to the face having the letter  D   https   media cdn cracku in uploads Screenshot     i UoJbu png ', 'Anamika  Gopal  Nischal  Vanmayi  Shresta and Sripad are sitting in a straight line facing the north  Nischal is to the immediate left of Gopal  Shresta is between Anamika and Sripad  Sripad is at the second place from the right end  Four persons are sitting between Nischal and Vanmayi  If Gopal and Sripad interchange their positions  then  br who will be sitting between Vanmayi and Shresta ', 'Select the option that is embedded in the given figure  X   rotation is NOT allowed   https   cracku in media uploads Screenshot     mKPc   png ', 'Three different positions of the same dice are shown  the six faces of which are numbered from   to     br Select the number that will be on the face opposite to the face having the number      https   cracku in media uploads Screenshot    ISuJ  d png ', 'Pointing towards a boy  Shalini said   He is my daughter s father s wife s father s wife s only son   How is Shalini related to the boy ', 'The sequence of folding a piece of paper and the manner in which the folded paper has been cut is shown in the following figures  How would this paper look when unfolded  https   media cdn cracku in uploads Screenshot      ajugaT png ', 'A cube is made by folding the given sheet  In the cube so formed  what would be the number on the face opposite the face showing the number      https   media cdn cracku in uploads Screenshot     RmYiMVE png ', 'A cube of side    cm is painted green on all the faces and then cut into smaller cubes of sides   cm each  Find the number of smaller cubes that have only one face painted ', 'Seven friends  E  F  G  H  I  J and K  are sitting along a circular table facing towards the centre  F and I are sitting to the immediate left and right of G  respectively  H is sitting third to the left of G  E and I are the neighbours of J  Who is sitting to the immediate right of H ', 'In a family X of eight persons with two couples  P is the son of Q and brother of R  S is the daughter of M  who is married to R  T is the aunt of S and mother of V  R s nephew is the son of P and has sister V  How is V related to M ', 'Four different positions of the same dice are shown  the six faces of which are numbered from   to     br Select the number  that will be on the face opposite to the face having the number      https   cracku in media uploads Screenshot     FcflwTo png ', 'Three different positions of the same dice are shown  the faces of which are marked with the letters L M N O P and Q   br Select the letter that will be on the face opposite to the face having the letter  M   https   media cdn cracku in uploads Screenshot      iBJrl  png ', 'The sequence of folding a piece of paper and the manner in which the folded paper has been cut is shown in the following figures  How would this paper look when unfolded  https   cracku in media uploads Q  s iEWmJ png ', 'At the time of sunset  Lopa and Kritika are sitting facing each other  If the shadow of Lopa falls to the right of Kritika  in which direction is Kritika facing ', 'If Arpita is the only daughter of Pritam s wife s mother s husband  then how is Arpita related to Pritam s son ', 'Two orientations of a dice are shown  This dice can be obtained by folding which of the option figures along the lines   https   cracku in media uploads Screenshot     Pk TWKk png ', 'Select the cubes that can be formed by folding the given sheet along the lines  https   media cdn cracku in uploads Screenshot     iNjUh   png ', 'The sequence of folding a piece of paper and the manner in which the folded paper has been cutis shown in the following figures  How would this paper look when unfolded  https   media cdn cracku in uploads Screenshot      ERK up png ', 'Guna is the son of Shyamala  Hemanth is the father of Manu  Guna is married to Deepa  Guna and Manu are siblings  Prathik is the brother of Deepa  Shyamala has only one son  Roshan is the son of Guna  Prathik is the father of Kalki  Jatin is the son of Manu  Prathik has no daughters  How is Hemanth related to Roshan s father ', 'The sequence of folding a piece of paper and the manner in which the folded paper has been cut is shown in the following figures  How would this paper look when unfolded  https   cracku in media uploads Screenshot    Xv BVoh png ', 'Pointing to a girl in a college poster  Deepika said   She is my mother in law s only son s niece   How is that girl s mother related to Deepika ', 'The sequence of folding a piece of paper and the manner in which the folded paper has been cut is shown in the following figures  How would this paper look when unfolded  https   media cdn cracku in uploads Screenshot     sRqpv B png ', 'A cube is made by folding the given sheet along the lines  In the cube so formed  what would be the number on the face opposite to the one having    https   cracku in media uploads Screenshot     jHEhZnA png ', 'Select the option in which the given figure is embedded  rotation is NOT allowed   https   cracku in media uploads image yHLgyXB png ', 'A piece of paper is folded and cut as shown below in the question figures  Select from the given answer figures  how it will appear when unfolded  https   cracku in media uploads Q   kfMo NW png ', 'Pointing to a baby girl in a cradle  Sripad said   She is the daughter of my father s mother s only daughter s elder daughter    br How is the baby girl s mother related to Sripad ', 'Bharat and Sapna are husband and wife  Rohit and Bharat are brothers  Suresh is the father of Rohit  Sapna s son is Krish  How is Krish related to Suresh  ', 'A cube is made by folding the given sheet  In the cube so formed  which of the following pairs of numbers will be on opposite faces  https   cracku in media uploads Screenshot     kVQoQh  png ', 'Sahasra started running from her house towards the north  After    meters she turned left and ran for    meters  She then turned right and ran for    meters  and again turned right to run    meters  In which direction was she running finally ', 'Ram  Rajat and Ramesh are the three sons of Kavita  Mukul is the son of Ram  Mukul s paternal grandfather is Jay  Jay has one daughter  Nikita  Rajat s son  Abhiram is married to Rani and their daughter is Ina  Nirmala is the daughter of Nikita  How is Jay related to Ina ', 'Select the option in which the given figure is embedded  rotation is NOT allowed   https   media cdn cracku in uploads Screenshot     qEVO  V png ', 'Pointing to the photograph of a girl  Raghav said   She is my father s mother s daughter s only brother s daughter   How is Raghav s father related to that girl s mother ', 'Select the option figure in which the given figure is embedded  rotation is NOT allowed   https   media cdn cracku in uploads Screenshot     i Y FXL png ', 'Select the option in which the given figure is embedded  rotation is NOT allowed   https   cracku in media uploads Screenshot     zOPs  Q png ', 'Ranjana said to a woman   My father is the paternal grandfather of your son Piyush   How is Piyush related to Ranjana ', 'Three different positions of the same dice are shown   br Select the symbol that will be on the face opposite to the face having  N   https   media cdn cracku in uploads Screenshot     F cDHCQ png ', 'The sequence of folding a piece of paper and the manner in which the folded paper has been cut is shown in the following figures  How would this paper look when unfolded  https   cracku in media uploads Screenshot    kXUWlD  png ', 'A cube is made by folding the given sheet  In the cube so formed  which number will be on the face opposite to the face having the number      https   cracku in media uploads Screenshot    PnfQTkZ png ', 'Pointing to a photograph  a man said   I have no brother or sister but that mans father is my fathers son   Whose photograph was it ', 'Arya s mother s husband is the brother of Meena s mother  Vansh is the brother of Meena and Kavita  Varun is the father of Arya  How is Varun related to Vansh ', 'Select the option that is embedded in the given figure  rotation is NOT allowed   https   media cdn cracku in uploads Screenshot    paIe NH png ', 'Two different positions of the same dice are shown  the faces of which are marked with the numbers IX  X  XI  XII  XIII and XIV   br Select the number that will be on the face opposite to the face having the number  XIV   https   media cdn cracku in uploads Screenshot     Ior TWY png ', 'Five persons are sitting in a row facing the north  One of the two persons at the extreme ends is an introvert and the other one is an extrovert  A thin person is sitting to the immediate right of an intelligent person  A weak person is sitting to the immediate left of the extrovert person  The intelligent person is sitting exactly between the introvert and the thin persons  Which of the following persons is sitting at the centre ', 'Select the option in which the given figure is embedded  rotation is NOT allowed   https   cracku in media uploads Screenshot     Hv  MXx png ', 'The sequence of folding a piece of paper and the manner in which the folded paper has been cut is shown in the following figures  How would this paper look when unfolded  https   cracku in media uploads Screenshot     uIRoidl png ', 'Pointing to a player in a stadium  Sanjana said   He is my paternal grandmother s only son s only son in law s son   How is that player s father related to Sanjana ', 'Select the option in which the given figure is embedded  rotation is NOT allowed   https   cracku in media uploads Screenshot     GwJ hZ  png ', 'Mahesh is the father of Riva and paternal grandfather of Vansh  Aakash is the brother of Riva and father of Vansh and Ritu  Ritu is the only daughter of Aakash and Maya  How is Maya related to Mahesh ', 'Three different positions of the same dice are shown  Study the same and identify which of the following statements is correct  https   cracku in media uploads Screenshot      h wYbv png ', 'The sequence of folding a piece of paper and the manner in which the folded paper has been cut is shownin the following figures  How would this paper look when unfolded  https   media cdn cracku in uploads Screenshot     tO Kv   png ', 'Select the option in which the given figure is embedded  rotation is NOT allowed   https   cracku in media uploads Screenshot      j  AkL png ', 'Select the option that depicts how the given transparent sheet of paper would appear if it is folded at the dotted line  https   cracku in media uploads Q   oDTdEMs png ', 'One morning  Chitrashi and Ayaan sit facing each other  If the shadow of Ayaan falls to the left of Chitrashi  then in which direction is Ayaan facing ', 'Pointing to the photograph of a girl Akanksha  Rajeev said   Her daughter s father s wife s mother is my wife s daughter s mother s mother in law   How is Rajeev related to Akanksha ', 'Four friends  H  I  J and K  are sitting at the four corners of a square facing towards the centre  H and J are sitting at diagonally opposite corners  I is sitting to the immediate left of H  Who is sitting to the immediate right of J ', 'Select the option in which the given figure is embedded  rotation is NOT allowed   https   cracku in media uploads Screenshot     Dt dqUY png ', 'Select the option in which the given figure is embedded  rotation is NOT allowed   https   media cdn cracku in uploads Screenshot    mzboEDK png ', 'Select the cube s  that can be formed by folding the given sheet along the lines  https   media cdn cracku in uploads Screenshot      K ra I png ', 'A cube of side    cm is painted yellow on all the faces and then cut into smaller cubes of sides   cm each  Find the number of smaller cubes that have only two faces painted ', 'The sequence of folding a piece of paper and the manner in which the folded paper has been cutis shown in the following figures  How would this paper look when unfolded  https   media cdn cracku in uploads Screenshot     tjK Vzp png ', 'The sequence of folding a piece of paper and the manner in which the folded paper has been cut is shown in the following figures  How would this paper look when unfolded  https   cracku in media uploads Screenshot     A UcAtb png ', 'The sequence of folding a piece of paper  figures i and ii  and the manner in which the folded paper has been cut  figure iii  is shown in the following figures  Select the option that would most closely resemble the unfolded form of figure  iii   https   cracku in media uploads Screenshot     uvEQ NO png ', 'Vijendra walks a certain distance  say X metres  from his home towards the west  Then he turns left and walks    metres  After that  he turns left and walks    metres  Then he turns left again to walk    metres  He finally turns left and walks    metres to reach his home  Find the value of X ', 'Srinija walked   km towards the west from her home  then turned cowards the south and walked    km  Then she walked    km towards the east  and finally walked   km towards the west  How far is Srinija from her initial position ', 'The sequence of folding a piece of paper  figures i and ii  and the manner in which the folded paper has been cut  figure  br iii  is shown in the following figures  Select the option that would most closely resemble the unfolded form of figure  br  iii   https   cracku in media uploads Screenshot      TdYJwE png ', 'Six numbers                    and     are written on different faces of a dice  Two positions of this dice are shown   br Select the number that will be on the face opposite to the face having the number       https   cracku in media uploads image   QJgad png ', 'Two orientations of a dice are shown  This dice can be obtained by folding which of the option figures along the lines  https   cracku in media uploads Screenshot     zxfzhGF png ', 'Select the option that is embedded in the given figure  X   rotation is NOT allowed   https   cracku in media uploads Screenshot      A mCS png ', 'P is the father of Q and R is the son of S  T is the brother of P  Q is the sister of R  How is S related to T ', 'The sequence of folding a piece of paper and the manner in which the folded paper has been cut is shown in the following figures  How would this paper look when unfolded  https   cracku in media uploads Q   GH  Cyd png ', 'A cube of side    cm is painted purple on all the faces and then cut into smaller cubes of sides   cm each  Find the number of smaller cubes having only one face painted ', 'Introducing Rajat to a guest  Ajay said   He is the only son of my father s daughter in law   How is Ajay related to Rajat ', 'Select the option figure that is embedded in the given figure  rotation is NOT allowed   https   media cdn cracku in uploads Screenshot     iw sly  png ', 'Five friends  Vishnu  Chirag  Raina  Kavya and Surbhi  are sitting around a circular table  facing the centre  Vishnu is to the immediate right of Kavya  Chirag is third to the left of Kavya  Surbhi is not adjacent to Chirag  Who is second to the left of Kavya ', 'The sequence of folding a piece of paper and the manner in which the folded paper has been cut is shown in the following figures  How would this paper look when unfolded  https   cracku in media uploads Q   CrWHpVe png ', 'Saksham introduced Nidhi to his friend   She is the daughter of the only son of my father s wife   How is Saksham related to Nidhi ', 'Six houses  A  B  C  D  E and F  are situated in a colony  D is    m south of E  F is    m south of B  A is    m north of E  F is    m east of A  C is    m west of B  Find the location of C with reference to A ', 'Select the option in which the given figure is embedded  rotation is NOT allowed   https   cracku in media uploads      April        XciplXw png ', 'Select the option in which the given figure is embedded  rotation is NOT allowed   https   cracku in media uploads Screenshot     dO Yqb  png ', 'The sequence of folding a piece of paper and the manner in which the folded paper has been cut is shown in the following figures  How would this paper look when unfolded  https   media cdn cracku in uploads Screenshot     ETIZ P  png ', 'Select the option in which the given figure is embedded  rotation is NOT allowed   https   cracku in media uploads Screenshot     F qfvgS png ', 'Introducing Rukmani  Vijay said   She is my wife s only brother s son s mother   How is Rukmani s husband related to Vijay ', 'Seven friends  Subhi  Prince  Ketan  Vishal  Mahima  Krish and Naitik  are sitting around a circular table with their backs towards the centre  Subhi is sitting to the immediate right of Prince  Naitik and Krish are not sitting to the immediate left or right of Vishal  Vishal is sitting third to the left of Prince  Mahima is sitting to the immediate right of Vishal  Who is sitting third to the right of Prince ', 'Pointing to the photograph of Sanchi  Nitin said   Her mother s father s son s wife is my mother in law s only daughter   How is Nitin related to Sanchi s mother   ', 'Select the option in which the given figure is embedded  rotation is NOT allowed   https   cracku in media uploads Screenshot    hgXaXhf png ', 'Select the option in which the given figure is embedded  rotation is NOT allowed   https   cracku in media uploads Screenshot     cP  w D png ', 'The sequence of folding a piece of paper and the manner in which the folded paper has been cm is shown in the following figures  How would this paper look when unfolded   https   cracku in media uploads Screenshot     JBG mSp png ', 'A cube of side    cm is painted yellow on all the faces and then cut into smaller cubes of sides   cm each  Find the number of smaller cubes having all the three faces painted ', 'Select the option in which the given figure is embedded  rotation is NOT allowed   https   cracku in media uploads Screenshot     Tfptl D png ', 'Rani is the sister of Piyush and the daughter of Kamal  Kamal is the son of Gaurav and the brother of Aryan  Aryan is the father of Rajneesh  How is Aryan related to Piyush ', 'Nine employees  K  L  M  N  O  P  Q  R and S  are sitting in the office in a straight line  all facing the east  O is third to the right of M  K is third to the left of P  Q is between P and S  N is fourth to the right of M  P is to the immediate right of N  R is fourth to the left of O  Which of the following statements is NOT correct ', 'Shashank walks a certain distance  say X m  towards the west  then turns left and walks    m  and then turns right and  walks    m  From there  he turns left and walks   m  and then turns left again and walks    m  From there  he turns left  and walks   m  and then turns left again and walks    m  He finally turns right and walks    m to reach a point that is  exactly    m to the east of the starting point  What is the value of X ', 'The sequence of folding a piece of paper and the manner in which the folded paper has been cut is shown in the following figures  How would this paper look when unfolded  https   cracku in media uploads Q  ZQziZNH png ', 'Select the cube s  that can be formed by folding the given sheet along the lines  https   media cdn cracku in uploads Screenshot     YtYpquI png ', 'Pointing towards Sumit  Anuj said   He is my mother s father s son s brother s son   If Vinita who is married to Kartik  is the mother of Anuj  then how is Vinita related to Sumit ', 'Six children  G  H  I  J  K  and L  are sitting around a circular table facing towards the centre  J and K are sitting to the immediate left and right of G  respectively  L is sitting to the immediate left of J  but not to the immediate right of H  Who is sitting to the immediate right of K ', 'Three different positions of the same dice are shown  Select the letter that will be on the face opposite to the face having the letter  C   https   cracku in media uploads Screenshot     BCQlIzL png ', 'Select the option in which the given figure is embedded  rotation is NOT allowed   https   cracku in media uploads Screenshot     TdH doT png ', 'There are six members  P  Q  R  S  T and U  in a family  T is the brother of P s husband   br U is the mother of T  Q is the daughter of S and P and the granddaughter of R  How is R related to T ', 'The sequence of folding a piece of paper and the manner in which the folded paper has been cut is shown in the following figures  How would this paper look when unfolded  https   cracku in media uploads Q   vFK Qg  png ', 'Pamila is the granddaughter of Akun who is married to Nikita  Murali is the brother in law of Akun who has two daughters but no son  Rahul is the cousin of Kamal and brother of Pamila  Uday and Vanmay are the sons in law of Nikita  Vanmay is married to Yamini and they have two daughters and one son  Uday has one son and one daughter  Tina and Smita are the daughters of Yamini  Murali is unmarried  How is Yamini related to Rahul ', 'The Sequence of folding a piece of paper and the manner in which the folded paper has been cut is shown in the following fogures  How would this paper look when unfolded  https   cracku in media uploads      April        png ', 'The sequence of folding a piece of paper  figures i  and the manner in which the folded paper has been cm  figure  br ii  is shown in the following figures  Select the option that would most closely resemble the unfolded form of figure  br  ii   https   cracku in media uploads Screenshot    VrCuOFA png ', 'The sequence of folding a piece of paper and the manner in which the folded paper has been cut is shown in the following figures  How would this paper look when unfolded  https   media cdn cracku in uploads Screenshot     DLYPAua png ', 'The sequence of folding a piece of paper and the manner in which the folded paper has been cut is shown in the following figures  How would this paper look when unfolded   https   cracku in media uploads Screenshot     So sQRD png ', 'Raghav  Manpreet  Sunaina  Prakrit  Vedika and Arwa are sitting around a circular table facing the centre  Raghav is second to the left of Prakrit  Manpreet is to the immediate left of Sunaina  Arwa is second to the right of Vedika  There are an equal number of persons between Raghav and Manpreet from both the ends  Who is sitting third to the left of Sunaina ', 'Select the option that is embedded in the given figure  rotation is NOT allowed   https   media cdn cracku in uploads Screenshot     E QFlV  png ', 'The sequence of folding a piece of paper and the manner in which the folded paper has been cut is shown in the following figures  How would this paper look when unfolded  https   cracku in media uploads Screenshot    ej EFNJ png ', 'Amit  Gaurav  Hatim  Varun  Yukti and Zaid are sitting in a straight line  all facing the north  Gaurav is fourth to the left of Amit  Yukti is sitting at one corner  Hatim is fourth to the left of Yukti  Zaid is third to the right of Gaurav  Who is sitting at the second place to the left of Zaid ', 'A cube of side     cm is painted red on all the faces and then cut into smaller cubes of sides    cm each  Find the number of smaller cubes having at least two faces painted ', 'Zainab is standing facing a particular direction initially  Then she turns     clockwise  after that she turns         circ      br anticlock wise  Then she turns         circ    anticlock wise  She finally turns         circ    clock wise  Now she is facing the north east direction  In which direction was Zainab facing initially before taking any turns ', 'Select the option figure in which the given figure is embedded  rotation is NOT allowed   https   media cdn cracku in uploads Screenshot      b P IY png ', 'The sequence of folding a piece of paper and the manner in which the folded paper has been cutis shown in the following figures  How would this paper look when unfolded  https   media cdn cracku in uploads Screenshot     wdmkllf png ', 'Six letters D  d  E  e  f and f  are written on the different faces of a dice  Two positions of this dice are shown   br Select the letter that will be on the face opposite to the face having the letter  D   https   cracku in media uploads Screenshot     rHDb vm png ', 'The sequence of folding a piece of paper and the manner in which the folded paper has been cut is shown in the following figures  How would this paper look when unfolded  https   cracku in media uploads Screenshot     rgNQqTq png ', 'P is the sister of Q and mother of R  S is the daughter in law of Wand wife of Q  W s grandson M is the nephew of P and brother of V  W has only two children  How is Q related to V  ', 'The sequence of folding a piece of paper  figure i  and the manner in which the folded paper has been cm  figure ii  is shown in the following figures  Select the option that would most closely resemble the unfolded form of figure  ii   https   cracku in media uploads Screenshot   sxgvTmR png ']\n"
     ]
    }
   ],
   "source": [
    "import re\n",
    "corpus=[]\n",
    "for i in range(len(data)):\n",
    "    rp=re.sub('[^a-zA-Z]',\" \",data[\"question\"][i])\n",
    "    corpus.append(rp)\n",
    "print(corpus)"
   ]
  },
  {
   "cell_type": "markdown",
   "id": "575c60e0",
   "metadata": {},
   "source": [
    "2) Removing of Stopwords"
   ]
  },
  {
   "cell_type": "code",
   "execution_count": 8,
   "id": "1644e4fc",
   "metadata": {
    "scrolled": false
   },
   "outputs": [
    {
     "name": "stdout",
     "output_type": "stream",
     "text": [
      "['i', 'me', 'my', 'myself', 'we', 'our', 'ours', 'ourselves', 'you', \"you're\", \"you've\", \"you'll\", \"you'd\", 'your', 'yours', 'yourself', 'yourselves', 'he', 'him', 'his', 'himself', 'she', \"she's\", 'her', 'hers', 'herself', 'it', \"it's\", 'its', 'itself', 'they', 'them', 'their', 'theirs', 'themselves', 'what', 'which', 'who', 'whom', 'this', 'that', \"that'll\", 'these', 'those', 'am', 'is', 'are', 'was', 'were', 'be', 'been', 'being', 'have', 'has', 'had', 'having', 'do', 'does', 'did', 'doing', 'a', 'an', 'the', 'and', 'but', 'if', 'or', 'because', 'as', 'until', 'while', 'of', 'at', 'by', 'for', 'with', 'about', 'against', 'between', 'into', 'through', 'during', 'before', 'after', 'above', 'below', 'to', 'from', 'up', 'down', 'in', 'out', 'on', 'off', 'over', 'under', 'again', 'further', 'then', 'once', 'here', 'there', 'when', 'where', 'why', 'how', 'all', 'any', 'both', 'each', 'few', 'more', 'most', 'other', 'some', 'such', 'no', 'nor', 'not', 'only', 'own', 'same', 'so', 'than', 'too', 'very', 's', 't', 'can', 'will', 'just', 'don', \"don't\", 'should', \"should've\", 'now', 'd', 'll', 'm', 'o', 're', 've', 'y', 'ain', 'aren', \"aren't\", 'couldn', \"couldn't\", 'didn', \"didn't\", 'doesn', \"doesn't\", 'hadn', \"hadn't\", 'hasn', \"hasn't\", 'haven', \"haven't\", 'isn', \"isn't\", 'ma', 'mightn', \"mightn't\", 'mustn', \"mustn't\", 'needn', \"needn't\", 'shan', \"shan't\", 'shouldn', \"shouldn't\", 'wasn', \"wasn't\", 'weren', \"weren't\", 'won', \"won't\", 'wouldn', \"wouldn't\"]\n"
     ]
    }
   ],
   "source": [
    "from nltk.corpus import stopwords\n",
    "print(stopwords.words('english'))"
   ]
  },
  {
   "cell_type": "code",
   "execution_count": 9,
   "id": "79fc9da7",
   "metadata": {},
   "outputs": [
    {
     "name": "stdout",
     "output_type": "stream",
     "text": [
      "['six letters p k u w n written different faces dice two positions dice shown select letter face opposite one n https cracku media uploads screenshot n slyir png', 'gaurav exits backdoor north facing house walk straight takes left turn walk turns left walks turns left walk far direction house', 'select option figure given figure embedded rotation allowed https media cdn cracku uploads screenshot l bnf png', 'psq means p north q br p amp q means p east q br p q means q west p br p q means q south p br p qr means p stands exactly middle horizontal line qr br p qr means p stands exactly middle vertical line qr br note p msq means p north q br find shortest distance g c following expression br c mss g amp j k jt', 'sequence folding piece paper manner folded paper cutis shown following figures would paper look unfolded https media cdn cracku uploads screenshot xq x r png', 'sequence folding piece paper manner folded paper cut shown following figures would paper look unfolded https media cdn cracku uploads screenshot iuqhnyx png', 'six letters b c e f written different faces dice two positions dice shown br select letter face opposite face letter c https cracku media uploads screenshot q rdih png', 'sequence folding piece paper manner folded paper cm shown following figures would paper look unfolded https cracku media uploads screenshot bwcadke png', 'select option figure given figure embedded rotation allowed https media cdn cracku uploads screenshot szaqiti png', 'jahnavi sister taruni taruni married dilip dilip father raghu br manoj son hema taruni mother law hema dilip one son daughter jahnavi married barun lekha daughter barun br jahnavi sister related manoj paternal grandfather', 'son c brother e niece f c sister b aunt b father two children son daughter son f f related c', 'family five members k l n among one married couple unmarried brother k sister married female mother n l males group br father k', 'vinita amita sisters gaurav ashish father vinita ansh son amita ashish related ansh', 'select option given figure embedded rotation allowed https media cdn cracku uploads screenshot qlaixcc png', 'family seven persons b brother son c son lawof c two grand children e f mother f niece g e son g c two children e related', 'p l b n six members business family n son b mother n l brother b b married couple daughter sister p n related', 'shweta starts walking office walks towards south turns right walks turns left walks finally turns left walks reach bank shortest distance office bank', 'two orientations dice shown dice obtained folding option figures along lines https cracku media uploads screenshot n flxnx png', 'select option embedded given figure x rotation allowed https cracku media uploads screenshot ljs zih png', 'p father q grandfather r brother mother married v sister q v related p', 'sequence folding piece paper manner folded paper cut shown following figures would paper look unfolded https cracku media uploads screenshot im png', 'six friends david bhanu minto krita john nisan sitting circle backs towards centre david minto sitting immediate left right bhanu respectively john sitting immediate left david nisan sitting third right bhanu sitting second left bhanu', 'eight north facing restaurants named p q r u v w located straight line second left w third left p p v third left v w immediate right u r third right p sitting fourth right', 'reeta standing facing south east first turns circ clock wise turns circ anticlockwise turns circ clockwise followed circ anticlockwise turn direction facing', 'pointing towards woman reena said daughter father law woman related reena', 'sequence folding piece paper manner folded paper cut shown following figures would paper look unfolded https media cdn cracku uploads screenshot onjp vk png', 'cube made folding given sheet cube formed following pairs numbers would opposite https media cdn cracku uploads screenshot z imsw png', 'two orientations box shown box look unfolded https cracku media uploads image mddxpaa png', 'priyank akshay brother sonia saksham sister akshay sonia son priyank related sonia', 'two different positions dice shown six faces numbered br select number face opposite one https cracku media uploads screenshot hkp qri png', 'select option figure given figure embedded rotation allowed https cracku media uploads screenshot qeejv png', 'select option depicts given transparent sheet paper would appear folded dotted line https cracku media uploads q kfjuc png', 'swati daughter anil sister akshara anil mother gouri kamini gouri mother kamini husband gaurav poonam mother law gaurav swati related gaurav', 'sequence folding piece paper figure manner folded paper cm figure ii br shown following figures select option would closely resemble unfolded form figure ii https cracku media uploads screenshot ly w te png', 'select option figure given figure embedded rotation allowed https media cdn cracku uploads screenshot mzii c png', 'bindu krunal manoj nilima omkar piyush renu sundar sitting around circular table facing centre necessarily order sundar sits second right piyush two persons sit sundar krunal omkar sits opposite bindu immediate neighbour krunal piyush nilima immediate neighbour krunal bindu manoj sits third right bindu br following statements true', 'arsh shivam father dhruvis son bimla eshwar father ofarsh shivam brother dhruv bimla related eshwar', 'saloni daughter son kartik nirupama mother deepak yamini son ankit married nirupama kartik paternal grandfather deepak kartik related ankit', 'sequence folding piece paper figure manner folded paper cut figures ii br shown following figures select option would closely resemble unfolded form figure ii https cracku media uploads screenshot xcn lhc png', 'sequence folding piece paper figure manner folded paper cut figure ii shown following figures br select option would closely resemble unfolded form figure ii https cracku media uploads screenshot b g ji png', 'sequence folding piece paper manner folded paper cut shown following figures would paper look unfolded https cracku media uploads screenshot vrscmte png', 'eight friends p q r u v w sitting clockwise order around circular table equal distances facing centre table sitting west sitting south west direction', 'select option embedded given figure x rotation allowed https cracku media uploads screenshot pcnuqku png', 'select option given figure embedded rotation allowed https media cdn cracku uploads screenshot vypc xr png', 'ramesh father manideep ramesh two children manideep brother niharika niharika daughter kavita ananya granddaughter kavita sujit father ananya sujit related manideep', 'sequence folding piece paper manner folded paper cut shown following figures would paper look unfolded https media cdn cracku uploads screenshot mqrbxd png', 'piece paper folded cut shown question figures select given answer figures appear unfolded https cracku media uploads q nshs wq png', 'sequence folding piece paper figures ii manner folded paper cut figure br iii shown following figures select option would closely resemble unfolded form figure br iii https cracku media uploads screenshot nk cqup png', 'select option depicts given transparent sheet paper would appear folded dotted line https cracku media uploads q cz bq png', 'sequence folding piece paper manner folded paper cut shown following figures would paper look unfolded https cracku media uploads q jhqxy png', 'cube made folding given sheet cube formed following pairs letters would opposite https media cdn cracku uploads screenshot p vtgav png', 'four different positions dice shown six faces numbered br select number face opposite one number https cracku media uploads image dsgeopn png', 'select option given figure embedded rotation allowed https media cdn cracku uploads screenshot za mi png', 'sequence folding piece paper manner folded paper cut shown following figures would paper look unfolded https media cdn cracku uploads screenshot qs rkff png', 'select cubes formed folding given sheet along lines https media cdn cracku uploads screenshot otjq ko png', 'two different positions dice shown six faces numbered br select number face opposite face number https cracku media uploads image sp wlvr png', 'family eight persons two couples two children b brothers two children e aunt cousin brother c c sister h cousin brother g f wife b h related f', 'sequence folding piece paper figures ii manner folded paper cut figure br iii shown following figures select option would closely resemble unfolded form figure br iii https cracku media uploads screenshot ubcgmfp png', 'p brother q father p r brother mother r p related', 'select option embedded given figure rotation allowed https media cdn cracku uploads screenshot tx xchu png', 'select dice formed folding given sheet along lines https cracku media uploads screenshot mv j da png', 'sequence folding piece paper manner folded paper cut shown following figures would paper look unfolded https cracku media uploads q ccuwfub png', 'select option embedded given figure x rotation allowed https cracku media uploads screenshot yrynssz png', 'eight friends b c e f g h sitting two lines four persons lines facing facing e immediate left g h immediate right b c facing g f facing h b immediate right person facing g immediate left f four persons sitting line', 'introducing kavi veena said sister son wife husband veena related kavi', 'select option depicts given transparent sheet paper would appear folded dotted line https cracku media uploads q jts png', 'select option figure given figure embedded rotation allowed https media cdn cracku uploads screenshot lqmx png', 'sequence folding piece paper manner folded paper cut shown following figures would paper look unfolded https media cdn cracku uploads screenshot hltm zg png', 'family eight persons two couples two children c f cousin brothers father e married g aunt f f mother h married b brother e nephew h e cousin brothers related', 'cube made folding given sheet cube formed would number opposite side number https media cdn cracku uploads screenshot hn cpiw png', 'three different positions non standard dice shown br letter face opposite face letter q https cracku media uploads screenshot fcjqr png', 'two different positions dice shown faces marked letters f g h j k br select letter face opposite face letter f https media cdn cracku uploads screenshot xt aspu png', 'two different positions dice shown faces marked letters p q r u br select letter face opposite face letter q https media cdn cracku uploads screenshot yo w png', 'cube made folding given sheet cube formed would letter face opposite face showing letter https media cdn cracku uploads screenshot vwyadrn png', 'select option given figure embedded rotation allowed https cracku media uploads screenshot jt afyg png', 'sequence folding piece paper manner folded paper bas cut show following figures would paper look unfolded https cracku media uploads screenshot yeoi png', 'introducing kaumudi guest boy mihir said daughter mother brother law mihir related kaumudi', 'select option given figure embedded rotation allowed https cracku media uploads screenshot robnr png', 'sequence folding piece paper manner folded paper cut shown following figures would paper look unfolded https media cdn cracku uploads screenshot dysgq png', 'amit brother sonia jyoti sister nikita sonia daughter satish father nikita daughter kavinder jyoti mother amit mukesh nikita sister husband satish related kavinder', 'select option embedded given figure rotation allowed https media cdn cracku uploads screenshot spye cr png', 'two different positions dice shown six faces marked f br select letter face opposite face showing letter c https media cdn cracku uploads screenshot jjmczcw png', 'seven members b c e f g h family h daughter law e sister c c son f wife b g sons h g related f', 'select option given figure embedded rotation allowed https media cdn cracku uploads screenshot l sgppl png', 'sequence folding piece paper manner folded paper cut shown following figures would paper look unfolded https cracku media uploads q se wro png', 'six letters symbols h h written different faces dice two positions dice shown br select letters symbols face opposite one h https cracku media uploads april png', 'niraj father rinku jiya tiya daughters ruby sister rinku vishnu son rinku gita niraj related tiya', 'sequence folding piece paper manner folded paper cut shown following figures would paper look unfolded https media cdn cracku uploads screenshot bqz x v png', 'sequence folding piece paper manner folded paper cut shown following figures would paper look unfolded https cracku media uploads screenshot txjtl k png', 'two orientations box shown box look unfolded https cracku media uploads screenshot ytu png', 'select option figure given figure embedded rotation allowed https media cdn cracku uploads screenshot bw sgrx png', 'select option given figure embedded rotation allowed https cracku media uploads screenshot hfvqryn png', 'two couples family komali two children madhurima wife omprakash brother mani pinki daughter komali urmila sister sanju son omprakash tarun son mani male br madhurima related komali', 'sequence folding piece paper manner folded paper cut shown following figures would paper look unfolded https media cdn cracku uploads screenshot u woua png', 'sequence folding piece paper manner folded paper cut shown following figures would paper look unfolded https cracku media uploads screenshot pza z png', 'sequence folding piece paper figure manner folded paper cm figure ii br shown following figures select option would closely resemble unfolded form figure ii https cracku media uploads screenshot mtwpfjk png', 'swati father maternal grand father divya daughter manya manya husband father related divya', 'three different positions dice shown faces marked letters b c e f br select letter face opposite face letter https media cdn cracku uploads screenshot uojbu png', 'anamika gopal nischal vanmayi shresta sripad sitting straight line facing north nischal immediate left gopal shresta anamika sripad sripad second place right end four persons sitting nischal vanmayi gopal sripad interchange positions br sitting vanmayi shresta', 'select option embedded given figure x rotation allowed https cracku media uploads screenshot mkpc png', 'three different positions dice shown six faces numbered br select number face opposite face number https cracku media uploads screenshot isuj png', 'pointing towards boy shalini said daughter father wife father wife son shalini related boy', 'sequence folding piece paper manner folded paper cut shown following figures would paper look unfolded https media cdn cracku uploads screenshot ajugat png', 'cube made folding given sheet cube formed would number face opposite face showing number https media cdn cracku uploads screenshot rmyimve png', 'cube side cm painted green faces cut smaller cubes sides cm find number smaller cubes one face painted', 'seven friends e f g h j k sitting along circular table facing towards centre f sitting immediate left right g respectively h sitting third left g e neighbours j sitting immediate right h', 'family x eight persons two couples p son q brother r daughter married r aunt mother v r nephew son p sister v v related', 'four different positions dice shown six faces numbered br select number face opposite face number https cracku media uploads screenshot fcflwto png', 'three different positions dice shown faces marked letters l n p q br select letter face opposite face letter https media cdn cracku uploads screenshot ibjrl png', 'sequence folding piece paper manner folded paper cut shown following figures would paper look unfolded https cracku media uploads q iewmj png', 'time sunset lopa kritika sitting facing shadow lopa falls right kritika direction kritika facing', 'arpita daughter pritam wife mother husband arpita related pritam son', 'two orientations dice shown dice obtained folding option figures along lines https cracku media uploads screenshot pk twkk png', 'select cubes formed folding given sheet along lines https media cdn cracku uploads screenshot injuh png', 'sequence folding piece paper manner folded paper cutis shown following figures would paper look unfolded https media cdn cracku uploads screenshot erk png', 'guna son shyamala hemanth father manu guna married deepa guna manu siblings prathik brother deepa shyamala one son roshan son guna prathik father kalki jatin son manu prathik daughters hemanth related roshan father', 'sequence folding piece paper manner folded paper cut shown following figures would paper look unfolded https cracku media uploads screenshot xv bvoh png', 'pointing girl college poster deepika said mother law son niece girl mother related deepika', 'sequence folding piece paper manner folded paper cut shown following figures would paper look unfolded https media cdn cracku uploads screenshot srqpv b png', 'cube made folding given sheet along lines cube formed would number face opposite one https cracku media uploads screenshot jhehzna png', 'select option given figure embedded rotation allowed https cracku media uploads image yhlgyxb png', 'piece paper folded cut shown question figures select given answer figures appear unfolded https cracku media uploads q kfmo nw png', 'pointing baby girl cradle sripad said daughter father mother daughter elder daughter br baby girl mother related sripad', 'bharat sapna husband wife rohit bharat brothers suresh father rohit sapna son krish krish related suresh', 'cube made folding given sheet cube formed following pairs numbers opposite faces https cracku media uploads screenshot kvqoqh png', 'sahasra started running house towards north meters turned left ran meters turned right ran meters turned right run meters direction running finally', 'ram rajat ramesh three sons kavita mukul son ram mukul paternal grandfather jay jay one daughter nikita rajat son abhiram married rani daughter ina nirmala daughter nikita jay related ina', 'select option given figure embedded rotation allowed https media cdn cracku uploads screenshot qevo v png', 'pointing photograph girl raghav said father mother daughter brother daughter raghav father related girl mother', 'select option figure given figure embedded rotation allowed https media cdn cracku uploads screenshot fxl png', 'select option given figure embedded rotation allowed https cracku media uploads screenshot zops q png', 'ranjana said woman father paternal grandfather son piyush piyush related ranjana', 'three different positions dice shown br select symbol face opposite face n https media cdn cracku uploads screenshot f cdhcq png', 'sequence folding piece paper manner folded paper cut shown following figures would paper look unfolded https cracku media uploads screenshot kxuwld png', 'cube made folding given sheet cube formed number face opposite face number https cracku media uploads screenshot pnfqtkz png', 'pointing photograph man said brother sister mans father fathers son whose photograph', 'arya mother husband brother meena mother vansh brother meena kavita varun father arya varun related vansh', 'select option embedded given figure rotation allowed https media cdn cracku uploads screenshot paie nh png', 'two different positions dice shown faces marked numbers ix x xi xii xiii xiv br select number face opposite face number xiv https media cdn cracku uploads screenshot ior twy png', 'five persons sitting row facing north one two persons extreme ends introvert one extrovert thin person sitting immediate right intelligent person weak person sitting immediate left extrovert person intelligent person sitting exactly introvert thin persons following persons sitting centre', 'select option given figure embedded rotation allowed https cracku media uploads screenshot hv mxx png', 'sequence folding piece paper manner folded paper cut shown following figures would paper look unfolded https cracku media uploads screenshot uiroidl png', 'pointing player stadium sanjana said paternal grandmother son son law son player father related sanjana', 'select option given figure embedded rotation allowed https cracku media uploads screenshot gwj hz png', 'mahesh father riva paternal grandfather vansh aakash brother riva father vansh ritu ritu daughter aakash maya maya related mahesh', 'three different positions dice shown study identify following statements correct https cracku media uploads screenshot h wybv png', 'sequence folding piece paper manner folded paper cut shownin following figures would paper look unfolded https media cdn cracku uploads screenshot kv png', 'select option given figure embedded rotation allowed https cracku media uploads screenshot j akl png', 'select option depicts given transparent sheet paper would appear folded dotted line https cracku media uploads q odtdems png', 'one morning chitrashi ayaan sit facing shadow ayaan falls left chitrashi direction ayaan facing', 'pointing photograph girl akanksha rajeev said daughter father wife mother wife daughter mother mother law rajeev related akanksha', 'four friends h j k sitting four corners square facing towards centre h j sitting diagonally opposite corners sitting immediate left h sitting immediate right j', 'select option given figure embedded rotation allowed https cracku media uploads screenshot dt dquy png', 'select option given figure embedded rotation allowed https media cdn cracku uploads screenshot mzboedk png', 'select cube formed folding given sheet along lines https media cdn cracku uploads screenshot k ra png', 'cube side cm painted yellow faces cut smaller cubes sides cm find number smaller cubes two faces painted', 'sequence folding piece paper manner folded paper cutis shown following figures would paper look unfolded https media cdn cracku uploads screenshot tjk vzp png', 'sequence folding piece paper manner folded paper cut shown following figures would paper look unfolded https cracku media uploads screenshot ucatb png', 'sequence folding piece paper figures ii manner folded paper cut figure iii shown following figures select option would closely resemble unfolded form figure iii https cracku media uploads screenshot uveq png', 'vijendra walks certain distance say x metres home towards west turns left walks metres turns left walks metres turns left walk metres finally turns left walks metres reach home find value x', 'srinija walked km towards west home turned cowards south walked km walked km towards east finally walked km towards west far srinija initial position', 'sequence folding piece paper figures ii manner folded paper cut figure br iii shown following figures select option would closely resemble unfolded form figure br iii https cracku media uploads screenshot tdyjwe png', 'six numbers written different faces dice two positions dice shown br select number face opposite face number https cracku media uploads image qjgad png', 'two orientations dice shown dice obtained folding option figures along lines https cracku media uploads screenshot zxfzhgf png', 'select option embedded given figure x rotation allowed https cracku media uploads screenshot mcs png', 'p father q r son brother p q sister r related', 'sequence folding piece paper manner folded paper cut shown following figures would paper look unfolded https cracku media uploads q gh cyd png', 'cube side cm painted purple faces cut smaller cubes sides cm find number smaller cubes one face painted', 'introducing rajat guest ajay said son father daughter law ajay related rajat', 'select option figure embedded given figure rotation allowed https media cdn cracku uploads screenshot iw sly png', 'five friends vishnu chirag raina kavya surbhi sitting around circular table facing centre vishnu immediate right kavya chirag third left kavya surbhi adjacent chirag second left kavya', 'sequence folding piece paper manner folded paper cut shown following figures would paper look unfolded https cracku media uploads q crwhpve png', 'saksham introduced nidhi friend daughter son father wife saksham related nidhi', 'six houses b c e f situated colony south e f south b north e f east c west b find location c reference', 'select option given figure embedded rotation allowed https cracku media uploads april xciplxw png', 'select option given figure embedded rotation allowed https cracku media uploads screenshot yqb png', 'sequence folding piece paper manner folded paper cut shown following figures would paper look unfolded https media cdn cracku uploads screenshot etiz p png', 'select option given figure embedded rotation allowed https cracku media uploads screenshot f qfvgs png', 'introducing rukmani vijay said wife brother son mother rukmani husband related vijay', 'seven friends subhi prince ketan vishal mahima krish naitik sitting around circular table backs towards centre subhi sitting immediate right prince naitik krish sitting immediate left right vishal vishal sitting third left prince mahima sitting immediate right vishal sitting third right prince', 'pointing photograph sanchi nitin said mother father son wife mother law daughter nitin related sanchi mother', 'select option given figure embedded rotation allowed https cracku media uploads screenshot hgxaxhf png', 'select option given figure embedded rotation allowed https cracku media uploads screenshot cp w png', 'sequence folding piece paper manner folded paper cm shown following figures would paper look unfolded https cracku media uploads screenshot jbg msp png', 'cube side cm painted yellow faces cut smaller cubes sides cm find number smaller cubes three faces painted', 'select option given figure embedded rotation allowed https cracku media uploads screenshot tfptl png', 'rani sister piyush daughter kamal kamal son gaurav brother aryan aryan father rajneesh aryan related piyush', 'nine employees k l n p q r sitting office straight line facing east third right k third left p q p n fourth right p immediate right n r fourth left following statements correct', 'shashank walks certain distance say x towards west turns left walks turns right walks turns left walks turns left walks turns left walks turns left walks finally turns right walks reach point exactly east starting point value x', 'sequence folding piece paper manner folded paper cut shown following figures would paper look unfolded https cracku media uploads q zqziznh png', 'select cube formed folding given sheet along lines https media cdn cracku uploads screenshot ytypqui png', 'pointing towards sumit anuj said mother father son brother son vinita married kartik mother anuj vinita related sumit', 'six children g h j k l sitting around circular table facing towards centre j k sitting immediate left right g respectively l sitting immediate left j immediate right h sitting immediate right k', 'three different positions dice shown select letter face opposite face letter c https cracku media uploads screenshot bcqlizl png', 'select option given figure embedded rotation allowed https cracku media uploads screenshot tdh dot png', 'six members p q r u family brother p husband br u mother q daughter p granddaughter r r related', 'sequence folding piece paper manner folded paper cut shown following figures would paper look unfolded https cracku media uploads q vfk qg png', 'pamila granddaughter akun married nikita murali brother law akun two daughters son rahul cousin kamal brother pamila uday vanmay sons law nikita vanmay married yamini two daughters one son uday one son one daughter tina smita daughters yamini murali unmarried yamini related rahul', 'sequence folding piece paper manner folded paper cut shown following fogures would paper look unfolded https cracku media uploads april png', 'sequence folding piece paper figures manner folded paper cm figure br ii shown following figures select option would closely resemble unfolded form figure br ii https cracku media uploads screenshot vrcuofa png', 'sequence folding piece paper manner folded paper cut shown following figures would paper look unfolded https media cdn cracku uploads screenshot dlypaua png', 'sequence folding piece paper manner folded paper cut shown following figures would paper look unfolded https cracku media uploads screenshot sqrd png', 'raghav manpreet sunaina prakrit vedika arwa sitting around circular table facing centre raghav second left prakrit manpreet immediate left sunaina arwa second right vedika equal number persons raghav manpreet ends sitting third left sunaina', 'select option embedded given figure rotation allowed https media cdn cracku uploads screenshot e qflv png', 'sequence folding piece paper manner folded paper cut shown following figures would paper look unfolded https cracku media uploads screenshot ej efnj png', 'amit gaurav hatim varun yukti zaid sitting straight line facing north gaurav fourth left amit yukti sitting one corner hatim fourth left yukti zaid third right gaurav sitting second place left zaid', 'cube side cm painted red faces cut smaller cubes sides cm find number smaller cubes least two faces painted', 'zainab standing facing particular direction initially turns clockwise turns circ br anticlock wise turns circ anticlock wise finally turns circ clock wise facing north east direction direction zainab facing initially taking turns', 'select option figure given figure embedded rotation allowed https media cdn cracku uploads screenshot b p iy png', 'sequence folding piece paper manner folded paper cutis shown following figures would paper look unfolded https media cdn cracku uploads screenshot wdmkllf png', 'six letters e e f f written different faces dice two positions dice shown br select letter face opposite face letter https cracku media uploads screenshot rhdb vm png', 'sequence folding piece paper manner folded paper cut shown following figures would paper look unfolded https cracku media uploads screenshot rgnqqtq png', 'p sister q mother r daughter law wand wife q w grandson nephew p brother v w two children q related v', 'sequence folding piece paper figure manner folded paper cm figure ii shown following figures select option would closely resemble unfolded form figure ii https cracku media uploads screenshot sxgvtmr png']\n"
     ]
    }
   ],
   "source": [
    "corpus=[]                         # Cleaning of the Text Data Under a Corpus -\n",
    "for i in range(len(data)):\n",
    "    rp=re.sub('[^a-zA-Z]',\" \",data[\"question\"][i])\n",
    "    rp=rp.lower()\n",
    "    rp=rp.split()\n",
    "    rp=[word for word in rp if not word in stopwords.words(\"english\")]\n",
    "    rp= \" \".join(rp)\n",
    "    corpus.append(rp)\n",
    "    \n",
    "print(corpus)"
   ]
  },
  {
   "cell_type": "markdown",
   "id": "a66e37bf",
   "metadata": {},
   "source": [
    "3) Either we have to go with Stemming \"or\" Lemmatization "
   ]
  },
  {
   "cell_type": "code",
   "execution_count": 10,
   "id": "09bcd946",
   "metadata": {},
   "outputs": [
    {
     "data": {
      "text/plain": [
       "'histori'"
      ]
     },
     "execution_count": 10,
     "metadata": {},
     "output_type": "execute_result"
    }
   ],
   "source": [
    "from nltk.stem import PorterStemmer         # Example for Stemming -\n",
    "ps=PorterStemmer()                          # STEMMING may or may not have meaningful words -         \n",
    "ps.stem(\"history\")                           # Without Human Interaction such as IOT Sensors-"
   ]
  },
  {
   "cell_type": "code",
   "execution_count": 11,
   "id": "84dbe9a2",
   "metadata": {},
   "outputs": [
    {
     "data": {
      "text/plain": [
       "'history'"
      ]
     },
     "execution_count": 11,
     "metadata": {},
     "output_type": "execute_result"
    }
   ],
   "source": [
    "from nltk.stem import WordNetLemmatizer         # Example for Lemmatization -\n",
    "wnl=WordNetLemmatizer()                        # LEMMATIZATION cumpolsory give the Meaning words -     \n",
    "wnl.lemmatize(\"history\")                        # For Human-Interaction we must go for Lemmatization"
   ]
  },
  {
   "cell_type": "markdown",
   "id": "64f1b66b",
   "metadata": {},
   "source": [
    "# All in one Cell :-"
   ]
  },
  {
   "cell_type": "code",
   "execution_count": 12,
   "id": "36f93b8d",
   "metadata": {},
   "outputs": [
    {
     "name": "stdout",
     "output_type": "stream",
     "text": [
      "['six letter p k u w n written differ face dice two posit dice shown select letter face opposit one n http cracku media upload screenshot n slyir png', 'gaurav exit backdoor north face hous walk straight take left turn walk turn left walk turn left walk far direct hous', 'select option figur given figur embed rotat allow http media cdn cracku upload screenshot l bnf png', 'psq mean p north q br p amp q mean p east q br p q mean q west p br p q mean q south p br p qr mean p stand exactli middl horizont line qr br p qr mean p stand exactli middl vertic line qr br note p msq mean p north q br find shortest distanc g c follow express br c mss g amp j k jt', 'sequenc fold piec paper manner fold paper cuti shown follow figur would paper look unfold http media cdn cracku upload screenshot xq x r png', 'sequenc fold piec paper manner fold paper cut shown follow figur would paper look unfold http media cdn cracku upload screenshot iuqhnyx png', 'six letter b c e f written differ face dice two posit dice shown br select letter face opposit face letter c http cracku media upload screenshot q rdih png', 'sequenc fold piec paper manner fold paper cm shown follow figur would paper look unfold http cracku media upload screenshot bwcadk png', 'select option figur given figur embed rotat allow http media cdn cracku upload screenshot szaqiti png', 'jahnavi sister taruni taruni marri dilip dilip father raghu br manoj son hema taruni mother law hema dilip one son daughter jahnavi marri barun lekha daughter barun br jahnavi sister relat manoj patern grandfath', 'son c brother e niec f c sister b aunt b father two children son daughter son f f relat c', 'famili five member k l n among one marri coupl unmarri brother k sister marri femal mother n l male group br father k', 'vinita amita sister gaurav ashish father vinita ansh son amita ashish relat ansh', 'select option given figur embed rotat allow http media cdn cracku upload screenshot qlaixcc png', 'famili seven person b brother son c son lawof c two grand children e f mother f niec g e son g c two children e relat', 'p l b n six member busi famili n son b mother n l brother b b marri coupl daughter sister p n relat', 'shweta start walk offic walk toward south turn right walk turn left walk final turn left walk reach bank shortest distanc offic bank', 'two orient dice shown dice obtain fold option figur along line http cracku media upload screenshot n flxnx png', 'select option embed given figur x rotat allow http cracku media upload screenshot lj zih png', 'p father q grandfath r brother mother marri v sister q v relat p', 'sequenc fold piec paper manner fold paper cut shown follow figur would paper look unfold http cracku media upload screenshot im png', 'six friend david bhanu minto krita john nisan sit circl back toward centr david minto sit immedi left right bhanu respect john sit immedi left david nisan sit third right bhanu sit second left bhanu', 'eight north face restaur name p q r u v w locat straight line second left w third left p p v third left v w immedi right u r third right p sit fourth right', 'reeta stand face south east first turn circ clock wise turn circ anticlockwis turn circ clockwis follow circ anticlockwis turn direct face', 'point toward woman reena said daughter father law woman relat reena', 'sequenc fold piec paper manner fold paper cut shown follow figur would paper look unfold http media cdn cracku upload screenshot onjp vk png', 'cube made fold given sheet cube form follow pair number would opposit http media cdn cracku upload screenshot z imsw png', 'two orient box shown box look unfold http cracku media upload imag mddxpaa png', 'priyank akshay brother sonia saksham sister akshay sonia son priyank relat sonia', 'two differ posit dice shown six face number br select number face opposit one http cracku media upload screenshot hkp qri png', 'select option figur given figur embed rotat allow http cracku media upload screenshot qeejv png', 'select option depict given transpar sheet paper would appear fold dot line http cracku media upload q kfjuc png', 'swati daughter anil sister akshara anil mother gouri kamini gouri mother kamini husband gaurav poonam mother law gaurav swati relat gaurav', 'sequenc fold piec paper figur manner fold paper cm figur ii br shown follow figur select option would close resembl unfold form figur ii http cracku media upload screenshot ly w te png', 'select option figur given figur embed rotat allow http media cdn cracku upload screenshot mzii c png', 'bindu krunal manoj nilima omkar piyush renu sundar sit around circular tabl face centr necessarili order sundar sit second right piyush two person sit sundar krunal omkar sit opposit bindu immedi neighbour krunal piyush nilima immedi neighbour krunal bindu manoj sit third right bindu br follow statement true', 'arsh shivam father dhruvi son bimla eshwar father ofarsh shivam brother dhruv bimla relat eshwar', 'saloni daughter son kartik nirupama mother deepak yamini son ankit marri nirupama kartik patern grandfath deepak kartik relat ankit', 'sequenc fold piec paper figur manner fold paper cut figur ii br shown follow figur select option would close resembl unfold form figur ii http cracku media upload screenshot xcn lhc png', 'sequenc fold piec paper figur manner fold paper cut figur ii shown follow figur br select option would close resembl unfold form figur ii http cracku media upload screenshot b g ji png', 'sequenc fold piec paper manner fold paper cut shown follow figur would paper look unfold http cracku media upload screenshot vrscmte png', 'eight friend p q r u v w sit clockwis order around circular tabl equal distanc face centr tabl sit west sit south west direct', 'select option embed given figur x rotat allow http cracku media upload screenshot pcnuqku png', 'select option given figur embed rotat allow http media cdn cracku upload screenshot vypc xr png', 'ramesh father manideep ramesh two children manideep brother niharika niharika daughter kavita ananya granddaught kavita sujit father ananya sujit relat manideep', 'sequenc fold piec paper manner fold paper cut shown follow figur would paper look unfold http media cdn cracku upload screenshot mqrbxd png', 'piec paper fold cut shown question figur select given answer figur appear unfold http cracku media upload q nsh wq png', 'sequenc fold piec paper figur ii manner fold paper cut figur br iii shown follow figur select option would close resembl unfold form figur br iii http cracku media upload screenshot nk cqup png', 'select option depict given transpar sheet paper would appear fold dot line http cracku media upload q cz bq png', 'sequenc fold piec paper manner fold paper cut shown follow figur would paper look unfold http cracku media upload q jhqxi png', 'cube made fold given sheet cube form follow pair letter would opposit http media cdn cracku upload screenshot p vtgav png', 'four differ posit dice shown six face number br select number face opposit one number http cracku media upload imag dsgeopn png', 'select option given figur embed rotat allow http media cdn cracku upload screenshot za mi png', 'sequenc fold piec paper manner fold paper cut shown follow figur would paper look unfold http media cdn cracku upload screenshot qs rkff png', 'select cube form fold given sheet along line http media cdn cracku upload screenshot otjq ko png', 'two differ posit dice shown six face number br select number face opposit face number http cracku media upload imag sp wlvr png', 'famili eight person two coupl two children b brother two children e aunt cousin brother c c sister h cousin brother g f wife b h relat f', 'sequenc fold piec paper figur ii manner fold paper cut figur br iii shown follow figur select option would close resembl unfold form figur br iii http cracku media upload screenshot ubcgmfp png', 'p brother q father p r brother mother r p relat', 'select option embed given figur rotat allow http media cdn cracku upload screenshot tx xchu png', 'select dice form fold given sheet along line http cracku media upload screenshot mv j da png', 'sequenc fold piec paper manner fold paper cut shown follow figur would paper look unfold http cracku media upload q ccuwfub png', 'select option embed given figur x rotat allow http cracku media upload screenshot yrynssz png', 'eight friend b c e f g h sit two line four person line face face e immedi left g h immedi right b c face g f face h b immedi right person face g immedi left f four person sit line', 'introduc kavi veena said sister son wife husband veena relat kavi', 'select option depict given transpar sheet paper would appear fold dot line http cracku media upload q jt png', 'select option figur given figur embed rotat allow http media cdn cracku upload screenshot lqmx png', 'sequenc fold piec paper manner fold paper cut shown follow figur would paper look unfold http media cdn cracku upload screenshot hltm zg png', 'famili eight person two coupl two children c f cousin brother father e marri g aunt f f mother h marri b brother e nephew h e cousin brother relat', 'cube made fold given sheet cube form would number opposit side number http media cdn cracku upload screenshot hn cpiw png', 'three differ posit non standard dice shown br letter face opposit face letter q http cracku media upload screenshot fcjqr png', 'two differ posit dice shown face mark letter f g h j k br select letter face opposit face letter f http media cdn cracku upload screenshot xt aspu png', 'two differ posit dice shown face mark letter p q r u br select letter face opposit face letter q http media cdn cracku upload screenshot yo w png', 'cube made fold given sheet cube form would letter face opposit face show letter http media cdn cracku upload screenshot vwyadrn png', 'select option given figur embed rotat allow http cracku media upload screenshot jt afyg png', 'sequenc fold piec paper manner fold paper ba cut show follow figur would paper look unfold http cracku media upload screenshot yeoi png', 'introduc kaumudi guest boy mihir said daughter mother brother law mihir relat kaumudi', 'select option given figur embed rotat allow http cracku media upload screenshot robnr png', 'sequenc fold piec paper manner fold paper cut shown follow figur would paper look unfold http media cdn cracku upload screenshot dysgq png', 'amit brother sonia jyoti sister nikita sonia daughter satish father nikita daughter kavind jyoti mother amit mukesh nikita sister husband satish relat kavind', 'select option embed given figur rotat allow http media cdn cracku upload screenshot spye cr png', 'two differ posit dice shown six face mark f br select letter face opposit face show letter c http media cdn cracku upload screenshot jjmczcw png', 'seven member b c e f g h famili h daughter law e sister c c son f wife b g son h g relat f', 'select option given figur embed rotat allow http media cdn cracku upload screenshot l sgppl png', 'sequenc fold piec paper manner fold paper cut shown follow figur would paper look unfold http cracku media upload q se wro png', 'six letter symbol h h written differ face dice two posit dice shown br select letter symbol face opposit one h http cracku media upload april png', 'niraj father rinku jiya tiya daughter rubi sister rinku vishnu son rinku gita niraj relat tiya', 'sequenc fold piec paper manner fold paper cut shown follow figur would paper look unfold http media cdn cracku upload screenshot bqz x v png', 'sequenc fold piec paper manner fold paper cut shown follow figur would paper look unfold http cracku media upload screenshot txjtl k png', 'two orient box shown box look unfold http cracku media upload screenshot ytu png', 'select option figur given figur embed rotat allow http media cdn cracku upload screenshot bw sgrx png', 'select option given figur embed rotat allow http cracku media upload screenshot hfvqryn png', 'two coupl famili komali two children madhurima wife omprakash brother mani pinki daughter komali urmila sister sanju son omprakash tarun son mani male br madhurima relat komali', 'sequenc fold piec paper manner fold paper cut shown follow figur would paper look unfold http media cdn cracku upload screenshot u woua png', 'sequenc fold piec paper manner fold paper cut shown follow figur would paper look unfold http cracku media upload screenshot pza z png', 'sequenc fold piec paper figur manner fold paper cm figur ii br shown follow figur select option would close resembl unfold form figur ii http cracku media upload screenshot mtwpfjk png', 'swati father matern grand father divya daughter manya manya husband father relat divya', 'three differ posit dice shown face mark letter b c e f br select letter face opposit face letter http media cdn cracku upload screenshot uojbu png', 'anamika gopal nischal vanmayi shresta sripad sit straight line face north nischal immedi left gopal shresta anamika sripad sripad second place right end four person sit nischal vanmayi gopal sripad interchang posit br sit vanmayi shresta', 'select option embed given figur x rotat allow http cracku media upload screenshot mkpc png', 'three differ posit dice shown six face number br select number face opposit face number http cracku media upload screenshot isuj png', 'point toward boy shalini said daughter father wife father wife son shalini relat boy', 'sequenc fold piec paper manner fold paper cut shown follow figur would paper look unfold http media cdn cracku upload screenshot ajugat png', 'cube made fold given sheet cube form would number face opposit face show number http media cdn cracku upload screenshot rmyimv png', 'cube side cm paint green face cut smaller cube side cm find number smaller cube one face paint', 'seven friend e f g h j k sit along circular tabl face toward centr f sit immedi left right g respect h sit third left g e neighbour j sit immedi right h', 'famili x eight person two coupl p son q brother r daughter marri r aunt mother v r nephew son p sister v v relat', 'four differ posit dice shown six face number br select number face opposit face number http cracku media upload screenshot fcflwto png', 'three differ posit dice shown face mark letter l n p q br select letter face opposit face letter http media cdn cracku upload screenshot ibjrl png', 'sequenc fold piec paper manner fold paper cut shown follow figur would paper look unfold http cracku media upload q iewmj png', 'time sunset lopa kritika sit face shadow lopa fall right kritika direct kritika face', 'arpita daughter pritam wife mother husband arpita relat pritam son', 'two orient dice shown dice obtain fold option figur along line http cracku media upload screenshot pk twkk png', 'select cube form fold given sheet along line http media cdn cracku upload screenshot injuh png', 'sequenc fold piec paper manner fold paper cuti shown follow figur would paper look unfold http media cdn cracku upload screenshot erk png', 'guna son shyamala hemanth father manu guna marri deepa guna manu sibl prathik brother deepa shyamala one son roshan son guna prathik father kalki jatin son manu prathik daughter hemanth relat roshan father', 'sequenc fold piec paper manner fold paper cut shown follow figur would paper look unfold http cracku media upload screenshot xv bvoh png', 'point girl colleg poster deepika said mother law son niec girl mother relat deepika', 'sequenc fold piec paper manner fold paper cut shown follow figur would paper look unfold http media cdn cracku upload screenshot srqpv b png', 'cube made fold given sheet along line cube form would number face opposit one http cracku media upload screenshot jhehzna png', 'select option given figur embed rotat allow http cracku media upload imag yhlgyxb png', 'piec paper fold cut shown question figur select given answer figur appear unfold http cracku media upload q kfmo nw png', 'point babi girl cradl sripad said daughter father mother daughter elder daughter br babi girl mother relat sripad', 'bharat sapna husband wife rohit bharat brother suresh father rohit sapna son krish krish relat suresh', 'cube made fold given sheet cube form follow pair number opposit face http cracku media upload screenshot kvqoqh png', 'sahasra start run hous toward north meter turn left ran meter turn right ran meter turn right run meter direct run final', 'ram rajat ramesh three son kavita mukul son ram mukul patern grandfath jay jay one daughter nikita rajat son abhiram marri rani daughter ina nirmala daughter nikita jay relat ina', 'select option given figur embed rotat allow http media cdn cracku upload screenshot qevo v png', 'point photograph girl raghav said father mother daughter brother daughter raghav father relat girl mother', 'select option figur given figur embed rotat allow http media cdn cracku upload screenshot fxl png', 'select option given figur embed rotat allow http cracku media upload screenshot zop q png', 'ranjana said woman father patern grandfath son piyush piyush relat ranjana', 'three differ posit dice shown br select symbol face opposit face n http media cdn cracku upload screenshot f cdhcq png', 'sequenc fold piec paper manner fold paper cut shown follow figur would paper look unfold http cracku media upload screenshot kxuwld png', 'cube made fold given sheet cube form number face opposit face number http cracku media upload screenshot pnfqtkz png', 'point photograph man said brother sister man father father son whose photograph', 'arya mother husband brother meena mother vansh brother meena kavita varun father arya varun relat vansh', 'select option embed given figur rotat allow http media cdn cracku upload screenshot paie nh png', 'two differ posit dice shown face mark number ix x xi xii xiii xiv br select number face opposit face number xiv http media cdn cracku upload screenshot ior twi png', 'five person sit row face north one two person extrem end introvert one extrovert thin person sit immedi right intellig person weak person sit immedi left extrovert person intellig person sit exactli introvert thin person follow person sit centr', 'select option given figur embed rotat allow http cracku media upload screenshot hv mxx png', 'sequenc fold piec paper manner fold paper cut shown follow figur would paper look unfold http cracku media upload screenshot uiroidl png', 'point player stadium sanjana said patern grandmoth son son law son player father relat sanjana', 'select option given figur embed rotat allow http cracku media upload screenshot gwj hz png', 'mahesh father riva patern grandfath vansh aakash brother riva father vansh ritu ritu daughter aakash maya maya relat mahesh', 'three differ posit dice shown studi identifi follow statement correct http cracku media upload screenshot h wybv png', 'sequenc fold piec paper manner fold paper cut shownin follow figur would paper look unfold http media cdn cracku upload screenshot kv png', 'select option given figur embed rotat allow http cracku media upload screenshot j akl png', 'select option depict given transpar sheet paper would appear fold dot line http cracku media upload q odtdem png', 'one morn chitrashi ayaan sit face shadow ayaan fall left chitrashi direct ayaan face', 'point photograph girl akanksha rajeev said daughter father wife mother wife daughter mother mother law rajeev relat akanksha', 'four friend h j k sit four corner squar face toward centr h j sit diagon opposit corner sit immedi left h sit immedi right j', 'select option given figur embed rotat allow http cracku media upload screenshot dt dquy png', 'select option given figur embed rotat allow http media cdn cracku upload screenshot mzboedk png', 'select cube form fold given sheet along line http media cdn cracku upload screenshot k ra png', 'cube side cm paint yellow face cut smaller cube side cm find number smaller cube two face paint', 'sequenc fold piec paper manner fold paper cuti shown follow figur would paper look unfold http media cdn cracku upload screenshot tjk vzp png', 'sequenc fold piec paper manner fold paper cut shown follow figur would paper look unfold http cracku media upload screenshot ucatb png', 'sequenc fold piec paper figur ii manner fold paper cut figur iii shown follow figur select option would close resembl unfold form figur iii http cracku media upload screenshot uveq png', 'vijendra walk certain distanc say x metr home toward west turn left walk metr turn left walk metr turn left walk metr final turn left walk metr reach home find valu x', 'srinija walk km toward west home turn coward south walk km walk km toward east final walk km toward west far srinija initi posit', 'sequenc fold piec paper figur ii manner fold paper cut figur br iii shown follow figur select option would close resembl unfold form figur br iii http cracku media upload screenshot tdyjw png', 'six number written differ face dice two posit dice shown br select number face opposit face number http cracku media upload imag qjgad png', 'two orient dice shown dice obtain fold option figur along line http cracku media upload screenshot zxfzhgf png', 'select option embed given figur x rotat allow http cracku media upload screenshot mc png', 'p father q r son brother p q sister r relat', 'sequenc fold piec paper manner fold paper cut shown follow figur would paper look unfold http cracku media upload q gh cyd png', 'cube side cm paint purpl face cut smaller cube side cm find number smaller cube one face paint', 'introduc rajat guest ajay said son father daughter law ajay relat rajat', 'select option figur embed given figur rotat allow http media cdn cracku upload screenshot iw sli png', 'five friend vishnu chirag raina kavya surbhi sit around circular tabl face centr vishnu immedi right kavya chirag third left kavya surbhi adjac chirag second left kavya', 'sequenc fold piec paper manner fold paper cut shown follow figur would paper look unfold http cracku media upload q crwhpve png', 'saksham introduc nidhi friend daughter son father wife saksham relat nidhi', 'six hous b c e f situat coloni south e f south b north e f east c west b find locat c refer', 'select option given figur embed rotat allow http cracku media upload april xciplxw png', 'select option given figur embed rotat allow http cracku media upload screenshot yqb png', 'sequenc fold piec paper manner fold paper cut shown follow figur would paper look unfold http media cdn cracku upload screenshot etiz p png', 'select option given figur embed rotat allow http cracku media upload screenshot f qfvg png', 'introduc rukmani vijay said wife brother son mother rukmani husband relat vijay', 'seven friend subhi princ ketan vishal mahima krish naitik sit around circular tabl back toward centr subhi sit immedi right princ naitik krish sit immedi left right vishal vishal sit third left princ mahima sit immedi right vishal sit third right princ', 'point photograph sanchi nitin said mother father son wife mother law daughter nitin relat sanchi mother', 'select option given figur embed rotat allow http cracku media upload screenshot hgxaxhf png', 'select option given figur embed rotat allow http cracku media upload screenshot cp w png', 'sequenc fold piec paper manner fold paper cm shown follow figur would paper look unfold http cracku media upload screenshot jbg msp png', 'cube side cm paint yellow face cut smaller cube side cm find number smaller cube three face paint', 'select option given figur embed rotat allow http cracku media upload screenshot tfptl png', 'rani sister piyush daughter kamal kamal son gaurav brother aryan aryan father rajneesh aryan relat piyush', 'nine employe k l n p q r sit offic straight line face east third right k third left p q p n fourth right p immedi right n r fourth left follow statement correct', 'shashank walk certain distanc say x toward west turn left walk turn right walk turn left walk turn left walk turn left walk turn left walk final turn right walk reach point exactli east start point valu x', 'sequenc fold piec paper manner fold paper cut shown follow figur would paper look unfold http cracku media upload q zqziznh png', 'select cube form fold given sheet along line http media cdn cracku upload screenshot ytypqui png', 'point toward sumit anuj said mother father son brother son vinita marri kartik mother anuj vinita relat sumit', 'six children g h j k l sit around circular tabl face toward centr j k sit immedi left right g respect l sit immedi left j immedi right h sit immedi right k', 'three differ posit dice shown select letter face opposit face letter c http cracku media upload screenshot bcqlizl png', 'select option given figur embed rotat allow http cracku media upload screenshot tdh dot png', 'six member p q r u famili brother p husband br u mother q daughter p granddaught r r relat', 'sequenc fold piec paper manner fold paper cut shown follow figur would paper look unfold http cracku media upload q vfk qg png', 'pamila granddaught akun marri nikita murali brother law akun two daughter son rahul cousin kamal brother pamila uday vanmay son law nikita vanmay marri yamini two daughter one son uday one son one daughter tina smita daughter yamini murali unmarri yamini relat rahul', 'sequenc fold piec paper manner fold paper cut shown follow fogur would paper look unfold http cracku media upload april png', 'sequenc fold piec paper figur manner fold paper cm figur br ii shown follow figur select option would close resembl unfold form figur br ii http cracku media upload screenshot vrcuofa png', 'sequenc fold piec paper manner fold paper cut shown follow figur would paper look unfold http media cdn cracku upload screenshot dlypaua png', 'sequenc fold piec paper manner fold paper cut shown follow figur would paper look unfold http cracku media upload screenshot sqrd png', 'raghav manpreet sunaina prakrit vedika arwa sit around circular tabl face centr raghav second left prakrit manpreet immedi left sunaina arwa second right vedika equal number person raghav manpreet end sit third left sunaina', 'select option embed given figur rotat allow http media cdn cracku upload screenshot e qflv png', 'sequenc fold piec paper manner fold paper cut shown follow figur would paper look unfold http cracku media upload screenshot ej efnj png', 'amit gaurav hatim varun yukti zaid sit straight line face north gaurav fourth left amit yukti sit one corner hatim fourth left yukti zaid third right gaurav sit second place left zaid', 'cube side cm paint red face cut smaller cube side cm find number smaller cube least two face paint', 'zainab stand face particular direct initi turn clockwis turn circ br anticlock wise turn circ anticlock wise final turn circ clock wise face north east direct direct zainab face initi take turn', 'select option figur given figur embed rotat allow http media cdn cracku upload screenshot b p iy png', 'sequenc fold piec paper manner fold paper cuti shown follow figur would paper look unfold http media cdn cracku upload screenshot wdmkllf png', 'six letter e e f f written differ face dice two posit dice shown br select letter face opposit face letter http cracku media upload screenshot rhdb vm png', 'sequenc fold piec paper manner fold paper cut shown follow figur would paper look unfold http cracku media upload screenshot rgnqqtq png', 'p sister q mother r daughter law wand wife q w grandson nephew p brother v w two children q relat v', 'sequenc fold piec paper figur manner fold paper cm figur ii shown follow figur select option would close resembl unfold form figur ii http cracku media upload screenshot sxgvtmr png']\n"
     ]
    }
   ],
   "source": [
    "corpus=[]                     # Here we should go with Stemming because there is Not a Human-Interaction.\n",
    "for i in range(len(data)):\n",
    "    rp=re.sub('[^a-zA-Z]',\" \",data[\"question\"][i])\n",
    "    rp=rp.lower()\n",
    "    rp=rp.split()   \n",
    "    rp=[ps.stem(word)for word in rp if not word in stopwords.words(\"english\")]\n",
    "    rp=\" \".join(rp)\n",
    "    corpus.append(rp)\n",
    "print(corpus)"
   ]
  },
  {
   "cell_type": "markdown",
   "id": "4de202b8",
   "metadata": {},
   "source": [
    "# Vectorization"
   ]
  },
  {
   "cell_type": "code",
   "execution_count": 13,
   "id": "dba54db7",
   "metadata": {},
   "outputs": [],
   "source": [
    "from sklearn.feature_extraction.text import CountVectorizer\n",
    "cv=CountVectorizer()\n",
    "X=cv.fit_transform(corpus)"
   ]
  },
  {
   "cell_type": "markdown",
   "id": "ef759aac",
   "metadata": {},
   "source": [
    "# Modelling using LDA (Latent Dirichlet Allocation)"
   ]
  },
  {
   "cell_type": "code",
   "execution_count": 14,
   "id": "6a0ee844",
   "metadata": {},
   "outputs": [
    {
     "data": {
      "text/plain": [
       "LatentDirichletAllocation(n_components=4)"
      ]
     },
     "execution_count": 14,
     "metadata": {},
     "output_type": "execute_result"
    }
   ],
   "source": [
    "from sklearn.decomposition import LatentDirichletAllocation\n",
    "model=LatentDirichletAllocation(n_components=4)\n",
    "model.fit(X)"
   ]
  },
  {
   "cell_type": "code",
   "execution_count": 15,
   "id": "f71db44e",
   "metadata": {},
   "outputs": [],
   "source": [
    "topic_results=model.transform(X)"
   ]
  },
  {
   "cell_type": "code",
   "execution_count": 16,
   "id": "95704400",
   "metadata": {},
   "outputs": [
    {
     "data": {
      "text/plain": [
       "array([0.01100186, 0.966851  , 0.01109692, 0.01105022])"
      ]
     },
     "execution_count": 16,
     "metadata": {},
     "output_type": "execute_result"
    }
   ],
   "source": [
    "topic_results[0]"
   ]
  },
  {
   "cell_type": "code",
   "execution_count": 17,
   "id": "913f7244",
   "metadata": {},
   "outputs": [
    {
     "data": {
      "text/plain": [
       "1"
      ]
     },
     "execution_count": 17,
     "metadata": {},
     "output_type": "execute_result"
    }
   ],
   "source": [
    "topic_results[0].argmax()"
   ]
  },
  {
   "cell_type": "markdown",
   "id": "5eb46140",
   "metadata": {},
   "source": [
    "This means that our model thinks that the first Question belongs to topic #2 \"Cluster."
   ]
  },
  {
   "cell_type": "markdown",
   "id": "605b8e38",
   "metadata": {},
   "source": [
    "# Combining with the Original Data"
   ]
  },
  {
   "cell_type": "code",
   "execution_count": 18,
   "id": "44836b43",
   "metadata": {},
   "outputs": [],
   "source": [
    "data[\"group\"]=topic_results.argmax(axis=1)"
   ]
  },
  {
   "cell_type": "code",
   "execution_count": 19,
   "id": "6b36c210",
   "metadata": {},
   "outputs": [
    {
     "data": {
      "text/html": [
       "<div>\n",
       "<style scoped>\n",
       "    .dataframe tbody tr th:only-of-type {\n",
       "        vertical-align: middle;\n",
       "    }\n",
       "\n",
       "    .dataframe tbody tr th {\n",
       "        vertical-align: top;\n",
       "    }\n",
       "\n",
       "    .dataframe thead th {\n",
       "        text-align: right;\n",
       "    }\n",
       "</style>\n",
       "<table border=\"1\" class=\"dataframe\">\n",
       "  <thead>\n",
       "    <tr style=\"text-align: right;\">\n",
       "      <th></th>\n",
       "      <th>question</th>\n",
       "      <th>group</th>\n",
       "    </tr>\n",
       "  </thead>\n",
       "  <tbody>\n",
       "    <tr>\n",
       "      <th>0</th>\n",
       "      <td>Six letters, A, P, K, U, W and N, are written ...</td>\n",
       "      <td>1</td>\n",
       "    </tr>\n",
       "    <tr>\n",
       "      <th>1</th>\n",
       "      <td>Gaurav exits from the backdoor of his north-fa...</td>\n",
       "      <td>0</td>\n",
       "    </tr>\n",
       "    <tr>\n",
       "      <th>2</th>\n",
       "      <td>Select the option figure in which the given fi...</td>\n",
       "      <td>1</td>\n",
       "    </tr>\n",
       "    <tr>\n",
       "      <th>3</th>\n",
       "      <td>PSQ' means 'P is to the north of Q .  &lt;br&gt;'P&amp;a...</td>\n",
       "      <td>1</td>\n",
       "    </tr>\n",
       "    <tr>\n",
       "      <th>4</th>\n",
       "      <td>The sequence of folding a piece of paper and t...</td>\n",
       "      <td>2</td>\n",
       "    </tr>\n",
       "  </tbody>\n",
       "</table>\n",
       "</div>"
      ],
      "text/plain": [
       "                                            question  group\n",
       "0  Six letters, A, P, K, U, W and N, are written ...      1\n",
       "1  Gaurav exits from the backdoor of his north-fa...      0\n",
       "2  Select the option figure in which the given fi...      1\n",
       "3  PSQ' means 'P is to the north of Q .  <br>'P&a...      1\n",
       "4  The sequence of folding a piece of paper and t...      2"
      ]
     },
     "execution_count": 19,
     "metadata": {},
     "output_type": "execute_result"
    }
   ],
   "source": [
    "data.head()"
   ]
  },
  {
   "cell_type": "code",
   "execution_count": 20,
   "id": "07d7130f",
   "metadata": {},
   "outputs": [
    {
     "data": {
      "text/plain": [
       "array([1, 0, 2, 3], dtype=int64)"
      ]
     },
     "execution_count": 20,
     "metadata": {},
     "output_type": "execute_result"
    }
   ],
   "source": [
    "data[\"group\"].unique()"
   ]
  },
  {
   "cell_type": "markdown",
   "id": "1e49e688",
   "metadata": {},
   "source": [
    "# Showing the Top words Per Topic"
   ]
  },
  {
   "cell_type": "code",
   "execution_count": 21,
   "id": "e3abad7c",
   "metadata": {},
   "outputs": [
    {
     "name": "stdout",
     "output_type": "stream",
     "text": [
      " THE TOP 10 WORDS FOR TOPIC #0\n",
      "['third', 'toward', 'person', 'immedi', 'walk', 'face', 'turn', 'right', 'left', 'sit']\n",
      "\n",
      "\n",
      " THE TOP 10 WORDS FOR TOPIC #1\n",
      "['figur', 'face', 'given', 'screenshot', 'select', 'upload', 'media', 'http', 'png', 'cracku']\n",
      "\n",
      "\n",
      " THE TOP 10 WORDS FOR TOPIC #2\n",
      "['follow', 'cracku', 'png', 'http', 'media', 'upload', 'would', 'figur', 'fold', 'paper']\n",
      "\n",
      "\n",
      " THE TOP 10 WORDS FOR TOPIC #3\n",
      "['said', 'cube', 'two', 'sister', 'mother', 'brother', 'father', 'daughter', 'relat', 'son']\n",
      "\n",
      "\n"
     ]
    }
   ],
   "source": [
    "for index,topic in enumerate(model.components_):\n",
    "    print(f' THE TOP 10 WORDS FOR TOPIC #{index}')\n",
    "    print([cv.get_feature_names()[i] for i in topic.argsort()[-10:]])\n",
    "    print('\\n')"
   ]
  },
  {
   "cell_type": "code",
   "execution_count": 22,
   "id": "f282585f",
   "metadata": {},
   "outputs": [
    {
     "data": {
      "text/plain": [
       "'Six letters, A, P, K, U, W and N, are written on different faces of a dice. Two positions of this dice are shown. Select the letter that will be on the face opposite to the one having N. https://cracku.in/media/uploads/Screenshot_305_n1slYir.png '"
      ]
     },
     "execution_count": 22,
     "metadata": {},
     "output_type": "execute_result"
    }
   ],
   "source": [
    "data[\"question\"][0]"
   ]
  },
  {
   "cell_type": "code",
   "execution_count": 23,
   "id": "0ced7bd0",
   "metadata": {},
   "outputs": [
    {
     "data": {
      "text/html": [
       "<div>\n",
       "<style scoped>\n",
       "    .dataframe tbody tr th:only-of-type {\n",
       "        vertical-align: middle;\n",
       "    }\n",
       "\n",
       "    .dataframe tbody tr th {\n",
       "        vertical-align: top;\n",
       "    }\n",
       "\n",
       "    .dataframe thead th {\n",
       "        text-align: right;\n",
       "    }\n",
       "</style>\n",
       "<table border=\"1\" class=\"dataframe\">\n",
       "  <thead>\n",
       "    <tr style=\"text-align: right;\">\n",
       "      <th></th>\n",
       "      <th>question</th>\n",
       "      <th>group</th>\n",
       "    </tr>\n",
       "  </thead>\n",
       "  <tbody>\n",
       "    <tr>\n",
       "      <th>10</th>\n",
       "      <td>D is the son of C and the brother of E, who is...</td>\n",
       "      <td>3</td>\n",
       "    </tr>\n",
       "    <tr>\n",
       "      <th>11</th>\n",
       "      <td>There is a family of five members: K, L, M,N a...</td>\n",
       "      <td>3</td>\n",
       "    </tr>\n",
       "    <tr>\n",
       "      <th>14</th>\n",
       "      <td>In a family of seven persons, B is the brother...</td>\n",
       "      <td>3</td>\n",
       "    </tr>\n",
       "    <tr>\n",
       "      <th>15</th>\n",
       "      <td>P, L, T, B, N and D are six members of a busin...</td>\n",
       "      <td>3</td>\n",
       "    </tr>\n",
       "    <tr>\n",
       "      <th>19</th>\n",
       "      <td>P is the father of Q and the grandfather of R....</td>\n",
       "      <td>3</td>\n",
       "    </tr>\n",
       "  </tbody>\n",
       "</table>\n",
       "</div>"
      ],
      "text/plain": [
       "                                             question  group\n",
       "10  D is the son of C and the brother of E, who is...      3\n",
       "11  There is a family of five members: K, L, M,N a...      3\n",
       "14  In a family of seven persons, B is the brother...      3\n",
       "15  P, L, T, B, N and D are six members of a busin...      3\n",
       "19  P is the father of Q and the grandfather of R....      3"
      ]
     },
     "execution_count": 23,
     "metadata": {},
     "output_type": "execute_result"
    }
   ],
   "source": [
    "data[data[\"group\"]==3].head()"
   ]
  },
  {
   "cell_type": "code",
   "execution_count": 24,
   "id": "62aa74e8",
   "metadata": {},
   "outputs": [
    {
     "data": {
      "text/html": [
       "<div>\n",
       "<style scoped>\n",
       "    .dataframe tbody tr th:only-of-type {\n",
       "        vertical-align: middle;\n",
       "    }\n",
       "\n",
       "    .dataframe tbody tr th {\n",
       "        vertical-align: top;\n",
       "    }\n",
       "\n",
       "    .dataframe thead th {\n",
       "        text-align: right;\n",
       "    }\n",
       "</style>\n",
       "<table border=\"1\" class=\"dataframe\">\n",
       "  <thead>\n",
       "    <tr style=\"text-align: right;\">\n",
       "      <th></th>\n",
       "      <th>question</th>\n",
       "      <th>group</th>\n",
       "    </tr>\n",
       "  </thead>\n",
       "  <tbody>\n",
       "    <tr>\n",
       "      <th>4</th>\n",
       "      <td>The sequence of folding a piece of paper and t...</td>\n",
       "      <td>2</td>\n",
       "    </tr>\n",
       "    <tr>\n",
       "      <th>5</th>\n",
       "      <td>The sequence of folding a piece of paper and t...</td>\n",
       "      <td>2</td>\n",
       "    </tr>\n",
       "    <tr>\n",
       "      <th>7</th>\n",
       "      <td>The sequence of folding a piece of paper and t...</td>\n",
       "      <td>2</td>\n",
       "    </tr>\n",
       "    <tr>\n",
       "      <th>20</th>\n",
       "      <td>The sequence of folding a piece of paper and t...</td>\n",
       "      <td>2</td>\n",
       "    </tr>\n",
       "    <tr>\n",
       "      <th>25</th>\n",
       "      <td>The sequence of folding a piece of paper and t...</td>\n",
       "      <td>2</td>\n",
       "    </tr>\n",
       "  </tbody>\n",
       "</table>\n",
       "</div>"
      ],
      "text/plain": [
       "                                             question  group\n",
       "4   The sequence of folding a piece of paper and t...      2\n",
       "5   The sequence of folding a piece of paper and t...      2\n",
       "7   The sequence of folding a piece of paper and t...      2\n",
       "20  The sequence of folding a piece of paper and t...      2\n",
       "25  The sequence of folding a piece of paper and t...      2"
      ]
     },
     "execution_count": 24,
     "metadata": {},
     "output_type": "execute_result"
    }
   ],
   "source": [
    "data[data[\"group\"]==2].head()"
   ]
  },
  {
   "cell_type": "code",
   "execution_count": 25,
   "id": "e90aa652",
   "metadata": {},
   "outputs": [
    {
     "data": {
      "text/html": [
       "<div>\n",
       "<style scoped>\n",
       "    .dataframe tbody tr th:only-of-type {\n",
       "        vertical-align: middle;\n",
       "    }\n",
       "\n",
       "    .dataframe tbody tr th {\n",
       "        vertical-align: top;\n",
       "    }\n",
       "\n",
       "    .dataframe thead th {\n",
       "        text-align: right;\n",
       "    }\n",
       "</style>\n",
       "<table border=\"1\" class=\"dataframe\">\n",
       "  <thead>\n",
       "    <tr style=\"text-align: right;\">\n",
       "      <th></th>\n",
       "      <th>question</th>\n",
       "      <th>group</th>\n",
       "    </tr>\n",
       "  </thead>\n",
       "  <tbody>\n",
       "    <tr>\n",
       "      <th>1</th>\n",
       "      <td>Gaurav exits from the backdoor of his north-fa...</td>\n",
       "      <td>0</td>\n",
       "    </tr>\n",
       "    <tr>\n",
       "      <th>9</th>\n",
       "      <td>Jahnavi is the sister of Taruni. Taruni is mar...</td>\n",
       "      <td>0</td>\n",
       "    </tr>\n",
       "    <tr>\n",
       "      <th>16</th>\n",
       "      <td>Shweta starts walking from her office and walk...</td>\n",
       "      <td>0</td>\n",
       "    </tr>\n",
       "    <tr>\n",
       "      <th>21</th>\n",
       "      <td>Six friends, David, Bhanu, Minto, Krita, John ...</td>\n",
       "      <td>0</td>\n",
       "    </tr>\n",
       "    <tr>\n",
       "      <th>22</th>\n",
       "      <td>Eight north-facing restaurants named P, Q, R, ...</td>\n",
       "      <td>0</td>\n",
       "    </tr>\n",
       "  </tbody>\n",
       "</table>\n",
       "</div>"
      ],
      "text/plain": [
       "                                             question  group\n",
       "1   Gaurav exits from the backdoor of his north-fa...      0\n",
       "9   Jahnavi is the sister of Taruni. Taruni is mar...      0\n",
       "16  Shweta starts walking from her office and walk...      0\n",
       "21  Six friends, David, Bhanu, Minto, Krita, John ...      0\n",
       "22  Eight north-facing restaurants named P, Q, R, ...      0"
      ]
     },
     "execution_count": 25,
     "metadata": {},
     "output_type": "execute_result"
    }
   ],
   "source": [
    "data[data[\"group\"]==0].head()"
   ]
  },
  {
   "cell_type": "code",
   "execution_count": 26,
   "id": "e61dd1d4",
   "metadata": {},
   "outputs": [
    {
     "data": {
      "text/html": [
       "<div>\n",
       "<style scoped>\n",
       "    .dataframe tbody tr th:only-of-type {\n",
       "        vertical-align: middle;\n",
       "    }\n",
       "\n",
       "    .dataframe tbody tr th {\n",
       "        vertical-align: top;\n",
       "    }\n",
       "\n",
       "    .dataframe thead th {\n",
       "        text-align: right;\n",
       "    }\n",
       "</style>\n",
       "<table border=\"1\" class=\"dataframe\">\n",
       "  <thead>\n",
       "    <tr style=\"text-align: right;\">\n",
       "      <th></th>\n",
       "      <th>question</th>\n",
       "      <th>group</th>\n",
       "    </tr>\n",
       "  </thead>\n",
       "  <tbody>\n",
       "    <tr>\n",
       "      <th>0</th>\n",
       "      <td>Six letters, A, P, K, U, W and N, are written ...</td>\n",
       "      <td>1</td>\n",
       "    </tr>\n",
       "    <tr>\n",
       "      <th>2</th>\n",
       "      <td>Select the option figure in which the given fi...</td>\n",
       "      <td>1</td>\n",
       "    </tr>\n",
       "    <tr>\n",
       "      <th>3</th>\n",
       "      <td>PSQ' means 'P is to the north of Q .  &lt;br&gt;'P&amp;a...</td>\n",
       "      <td>1</td>\n",
       "    </tr>\n",
       "    <tr>\n",
       "      <th>6</th>\n",
       "      <td>Six letters A, B, C, D, E and F are written on...</td>\n",
       "      <td>1</td>\n",
       "    </tr>\n",
       "    <tr>\n",
       "      <th>8</th>\n",
       "      <td>Select the option figure in which the given fi...</td>\n",
       "      <td>1</td>\n",
       "    </tr>\n",
       "  </tbody>\n",
       "</table>\n",
       "</div>"
      ],
      "text/plain": [
       "                                            question  group\n",
       "0  Six letters, A, P, K, U, W and N, are written ...      1\n",
       "2  Select the option figure in which the given fi...      1\n",
       "3  PSQ' means 'P is to the north of Q .  <br>'P&a...      1\n",
       "6  Six letters A, B, C, D, E and F are written on...      1\n",
       "8  Select the option figure in which the given fi...      1"
      ]
     },
     "execution_count": 26,
     "metadata": {},
     "output_type": "execute_result"
    }
   ],
   "source": [
    "data[data[\"group\"]==1].head()"
   ]
  },
  {
   "cell_type": "markdown",
   "id": "5b08261e",
   "metadata": {},
   "source": [
    "# Create a mapping of cluster numbers to representative labels:-"
   ]
  },
  {
   "cell_type": "code",
   "execution_count": 27,
   "id": "79285887",
   "metadata": {},
   "outputs": [],
   "source": [
    "cluster_labels = {\n",
    "    0: \"Paper Folding Puzzels\",\n",
    "    1: \"Family & Relationship Descriptive\",\n",
    "    2: \"Visual Patterns Recognization\",\n",
    "    3: \"Arrangement & Movement Scenarios\"\n",
    "}\n",
    "data[\"group_task\"] = data[\"group\"].map(cluster_labels)\n"
   ]
  },
  {
   "cell_type": "code",
   "execution_count": 28,
   "id": "a2cde38d",
   "metadata": {},
   "outputs": [
    {
     "data": {
      "text/html": [
       "<div>\n",
       "<style scoped>\n",
       "    .dataframe tbody tr th:only-of-type {\n",
       "        vertical-align: middle;\n",
       "    }\n",
       "\n",
       "    .dataframe tbody tr th {\n",
       "        vertical-align: top;\n",
       "    }\n",
       "\n",
       "    .dataframe thead th {\n",
       "        text-align: right;\n",
       "    }\n",
       "</style>\n",
       "<table border=\"1\" class=\"dataframe\">\n",
       "  <thead>\n",
       "    <tr style=\"text-align: right;\">\n",
       "      <th></th>\n",
       "      <th>question</th>\n",
       "      <th>group</th>\n",
       "      <th>group_task</th>\n",
       "    </tr>\n",
       "  </thead>\n",
       "  <tbody>\n",
       "    <tr>\n",
       "      <th>0</th>\n",
       "      <td>Six letters, A, P, K, U, W and N, are written ...</td>\n",
       "      <td>1</td>\n",
       "      <td>Family &amp; Relationship Descriptive</td>\n",
       "    </tr>\n",
       "    <tr>\n",
       "      <th>1</th>\n",
       "      <td>Gaurav exits from the backdoor of his north-fa...</td>\n",
       "      <td>0</td>\n",
       "      <td>Paper Folding Puzzels</td>\n",
       "    </tr>\n",
       "    <tr>\n",
       "      <th>2</th>\n",
       "      <td>Select the option figure in which the given fi...</td>\n",
       "      <td>1</td>\n",
       "      <td>Family &amp; Relationship Descriptive</td>\n",
       "    </tr>\n",
       "    <tr>\n",
       "      <th>3</th>\n",
       "      <td>PSQ' means 'P is to the north of Q .  &lt;br&gt;'P&amp;a...</td>\n",
       "      <td>1</td>\n",
       "      <td>Family &amp; Relationship Descriptive</td>\n",
       "    </tr>\n",
       "    <tr>\n",
       "      <th>4</th>\n",
       "      <td>The sequence of folding a piece of paper and t...</td>\n",
       "      <td>2</td>\n",
       "      <td>Visual Patterns Recognization</td>\n",
       "    </tr>\n",
       "  </tbody>\n",
       "</table>\n",
       "</div>"
      ],
      "text/plain": [
       "                                            question  group  \\\n",
       "0  Six letters, A, P, K, U, W and N, are written ...      1   \n",
       "1  Gaurav exits from the backdoor of his north-fa...      0   \n",
       "2  Select the option figure in which the given fi...      1   \n",
       "3  PSQ' means 'P is to the north of Q .  <br>'P&a...      1   \n",
       "4  The sequence of folding a piece of paper and t...      2   \n",
       "\n",
       "                          group_task  \n",
       "0  Family & Relationship Descriptive  \n",
       "1              Paper Folding Puzzels  \n",
       "2  Family & Relationship Descriptive  \n",
       "3  Family & Relationship Descriptive  \n",
       "4      Visual Patterns Recognization  "
      ]
     },
     "execution_count": 28,
     "metadata": {},
     "output_type": "execute_result"
    }
   ],
   "source": [
    "data.head()"
   ]
  },
  {
   "cell_type": "markdown",
   "id": "9b0089f2",
   "metadata": {},
   "source": [
    "# Visualization of Cluster's :-"
   ]
  },
  {
   "cell_type": "code",
   "execution_count": 29,
   "id": "f53aee37",
   "metadata": {},
   "outputs": [
    {
     "data": {
      "image/png": "[encoded data removed]",
      "text/plain": [
       "<Figure size 640x480 with 1 Axes>"
      ]
     },
     "metadata": {},
     "output_type": "display_data"
    }
   ],
   "source": [
    "sns.countplot(data=data,x='group', palette='viridis')\n",
    "plt.xlabel('Cluster')\n",
    "plt.ylabel('Count')\n",
    "plt.title('Distribution of Data Points Among Clusters')\n",
    "plt.show()\n"
   ]
  },
  {
   "cell_type": "code",
   "execution_count": 30,
   "id": "2241b88f",
   "metadata": {},
   "outputs": [
    {
     "data": {
      "image/png": "[encoded data removed]",
      "text/plain": [
       "<Figure size 640x480 with 2 Axes>"
      ]
     },
     "metadata": {},
     "output_type": "display_data"
    }
   ],
   "source": [
    "from sklearn.manifold import TSNE\n",
    "import matplotlib.pyplot as plt\n",
    "\n",
    "# Assuming 'topic_results' contains your transformed data\n",
    "tsne = TSNE(n_components=2, random_state=42)\n",
    "tsne_result = tsne.fit_transform(topic_results)\n",
    "\n",
    "# Create a scatter plot of the t-SNE results with colors representing clusters\n",
    "plt.scatter(tsne_result[:, 0], tsne_result[:, 1], c=data[\"group\"], cmap=\"viridis\")\n",
    "plt.colorbar(ticks=[0, 1, 2, 3], label=\"Clusters\")\n",
    "plt.title(\"t-SNE Plot of Clusters\")\n",
    "plt.show()\n"
   ]
  },
  {
   "cell_type": "markdown",
   "id": "8f239d92",
   "metadata": {},
   "source": [
    "# Validating the Quality of the Cluster Using Calinski-Harabasz Index : -"
   ]
  },
  {
   "cell_type": "code",
   "execution_count": 32,
   "id": "83e27894",
   "metadata": {},
   "outputs": [
    {
     "name": "stdout",
     "output_type": "stream",
     "text": [
      "Calinski-Harabasz Index: 28.025277421762404\n"
     ]
    }
   ],
   "source": [
    "from sklearn.metrics import calinski_harabasz_score\n",
    "X_dense = X.toarray()\n",
    "ch_score = calinski_harabasz_score(X_dense, data[\"group\"])\n",
    "print(f\"Calinski-Harabasz Index: {ch_score}\")"
   ]
  },
  {
   "cell_type": "markdown",
   "id": "10fda151",
   "metadata": {},
   "source": [
    "The Calinski-Harabasz Index (CHI) score of approximately 28.03\n",
    "\n",
    "That suggests the clusters have relatively good separation and that the clustering quality is reasonable."
   ]
  }
 ],
 "metadata": {
  "kernelspec": {
   "display_name": "Python 3 (ipykernel)",
   "language": "python",
   "name": "python3"
  },
  "language_info": {
   "codemirror_mode": {
    "name": "ipython",
    "version": 3
   },
   "file_extension": ".py",
   "mimetype": "text/x-python",
   "name": "python",
   "nbconvert_exporter": "python",
   "pygments_lexer": "ipython3",
   "version": "3.9.13"
  }
 },
 "nbformat": 4,
 "nbformat_minor": 5
}
